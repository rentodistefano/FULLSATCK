{
 "cells": [
  {
   "cell_type": "markdown",
   "metadata": {},
   "source": [
    "# Fraudulent Activities - PART I\n",
    "\n",
    "### OBJECTIF\n",
    "\n",
    "Les sites de E-commerce font transiter beaucoup d'argent. Cela peut engendrer des risques non négligeables d'activités frauduleuses, comme l'utilisation de carte de crédit volées, du blanchiment d'argent, etc.\n",
    "\n",
    "Fort heureusement, le Machine Learning peut nous aider à identifier ces activités frauduleuses. Tous les sites web où vous devez entrer vos informations de paiements ont une équipe qui s'occupe de gérer les risques de fraude via le ML.\n",
    "\n",
    "Le but de ce challenge est de construire un modèle qui vous permet de prédire une probabilité de transaction frauduleuse.\n",
    "\n",
    "### DESCRIPTION\n",
    "\n",
    "L'entreprise X fait du E-commerce et vend des vêtements faits-main. Votre but est de construire un modèle qui permette de prédire si l'achat d'un vêtement doit être considéré comme une transaction frauduleuse ou non.\n",
    "\n",
    "Voici précisément ce que vous devez faire :\n",
    "\n",
    "1. Pour chacun des utilisateurs, déterminez le pays d'origine depuis son adresse IP\n",
    "\n",
    "2. Construisez un modèle qui permette de prédire si l'activité est frauduleuse ou non. Expliquez aussi vos choix / hypothèses en termes d'optimisation de faux-positifs et faux-négatifs\n",
    "\n",
    "3. Votre patron aimerait comprendre votre modèle car il est inquiet d'utiliser un modèle _black box_. Comment l'expliqueriez vous d'un point utilisateur, et non pas mathématique. Par exemple, quels sont les utilisateurs qui peuvent être classés comme _risqués_ ?\n",
    "\n",
    "4. Supposons que vous pouvez utiliser votre modèle en live pour qu'il fasse sa prédiction en temps réel. D'un point de vue Produit, comment l'utiliseriez-vous ? Comment pourriez-vous penser l'expérience utilisateur face à ce produit ?\n",
    "\n",
    "\n",
    "### DATA\n",
    "\n",
    "Vous pouvez utiliser les deux tables suivantes :\n",
    "\n",
    "```python\n",
    "Fraud_Data\n",
    "```\n",
    "\n",
    "&\n",
    "\n",
    "```python\n",
    "IpAddress_to_Country\n",
    "```\n"
   ]
  },
  {
   "cell_type": "code",
   "execution_count": 1,
   "metadata": {},
   "outputs": [
    {
     "name": "stdout",
     "output_type": "stream",
     "text": [
      "Requirement already satisfied: s3fs in /opt/conda/lib/python3.8/site-packages (0.5.2)\n",
      "Requirement already satisfied: aiobotocore>=1.0.1 in /opt/conda/lib/python3.8/site-packages (from s3fs) (1.2.0)\n",
      "Requirement already satisfied: fsspec>=0.8.0 in /opt/conda/lib/python3.8/site-packages (from s3fs) (0.8.3)\n",
      "Requirement already satisfied: wrapt>=1.10.10 in /opt/conda/lib/python3.8/site-packages (from aiobotocore>=1.0.1->s3fs) (1.12.1)\n",
      "Requirement already satisfied: botocore<1.19.53,>=1.19.52 in /opt/conda/lib/python3.8/site-packages (from aiobotocore>=1.0.1->s3fs) (1.19.52)\n",
      "Requirement already satisfied: aiohttp>=3.3.1 in /opt/conda/lib/python3.8/site-packages (from aiobotocore>=1.0.1->s3fs) (3.7.3)\n",
      "Requirement already satisfied: aioitertools>=0.5.1 in /opt/conda/lib/python3.8/site-packages (from aiobotocore>=1.0.1->s3fs) (0.7.1)\n",
      "Requirement already satisfied: python-dateutil<3.0.0,>=2.1 in /opt/conda/lib/python3.8/site-packages (from botocore<1.19.53,>=1.19.52->aiobotocore>=1.0.1->s3fs) (2.8.1)\n",
      "Requirement already satisfied: urllib3<1.27,>=1.25.4; python_version != \"3.4\" in /opt/conda/lib/python3.8/site-packages (from botocore<1.19.53,>=1.19.52->aiobotocore>=1.0.1->s3fs) (1.25.10)\n",
      "Requirement already satisfied: jmespath<1.0.0,>=0.7.1 in /opt/conda/lib/python3.8/site-packages (from botocore<1.19.53,>=1.19.52->aiobotocore>=1.0.1->s3fs) (0.10.0)\n",
      "Requirement already satisfied: yarl<2.0,>=1.0 in /opt/conda/lib/python3.8/site-packages (from aiohttp>=3.3.1->aiobotocore>=1.0.1->s3fs) (1.6.3)\n",
      "Requirement already satisfied: multidict<7.0,>=4.5 in /opt/conda/lib/python3.8/site-packages (from aiohttp>=3.3.1->aiobotocore>=1.0.1->s3fs) (5.1.0)\n",
      "Requirement already satisfied: chardet<4.0,>=2.0 in /opt/conda/lib/python3.8/site-packages (from aiohttp>=3.3.1->aiobotocore>=1.0.1->s3fs) (3.0.4)\n",
      "Requirement already satisfied: typing-extensions>=3.6.5 in /opt/conda/lib/python3.8/site-packages (from aiohttp>=3.3.1->aiobotocore>=1.0.1->s3fs) (3.7.4.2)\n",
      "Requirement already satisfied: attrs>=17.3.0 in /opt/conda/lib/python3.8/site-packages (from aiohttp>=3.3.1->aiobotocore>=1.0.1->s3fs) (20.2.0)\n",
      "Requirement already satisfied: async-timeout<4.0,>=3.0 in /opt/conda/lib/python3.8/site-packages (from aiohttp>=3.3.1->aiobotocore>=1.0.1->s3fs) (3.0.1)\n",
      "Requirement already satisfied: six>=1.5 in /opt/conda/lib/python3.8/site-packages (from python-dateutil<3.0.0,>=2.1->botocore<1.19.53,>=1.19.52->aiobotocore>=1.0.1->s3fs) (1.15.0)\n",
      "Requirement already satisfied: idna>=2.0 in /opt/conda/lib/python3.8/site-packages (from yarl<2.0,>=1.0->aiohttp>=3.3.1->aiobotocore>=1.0.1->s3fs) (2.10)\n"
     ]
    }
   ],
   "source": [
    "!pip install s3fs"
   ]
  },
  {
   "cell_type": "markdown",
   "metadata": {},
   "source": [
    "## Import Data"
   ]
  },
  {
   "cell_type": "code",
   "execution_count": 2,
   "metadata": {},
   "outputs": [],
   "source": [
    "import pandas as pd\n",
    "import numpy as np\n",
    "import seaborn as sns\n",
    "import matplotlib.pyplot as plt\n",
    "from sklearn.impute import SimpleImputer\n",
    "from sklearn.metrics import confusion_matrix\n",
    "from sklearn.compose import ColumnTransformer\n",
    "from sklearn.tree import DecisionTreeClassifier\n",
    "from sklearn.linear_model import LogisticRegression\n",
    "from sklearn.ensemble import RandomForestClassifier\n",
    "from sklearn.preprocessing import StandardScaler, OneHotEncoder"
   ]
  },
  {
   "cell_type": "markdown",
   "metadata": {},
   "source": [
    "## Predict the likelihood of a fraudulent transaction"
   ]
  },
  {
   "cell_type": "code",
   "execution_count": 3,
   "metadata": {},
   "outputs": [],
   "source": [
    "# Lecture des fichiers\n",
    "df1 = pd.read_csv(\"s3://full-stack-bigdata-datasets/Machine Learning Supervisé/projects/fraudulent_activity/Fraud_Data.csv\")"
   ]
  },
  {
   "cell_type": "code",
   "execution_count": 4,
   "metadata": {},
   "outputs": [
    {
     "data": {
      "text/html": [
       "<div>\n",
       "<style scoped>\n",
       "    .dataframe tbody tr th:only-of-type {\n",
       "        vertical-align: middle;\n",
       "    }\n",
       "\n",
       "    .dataframe tbody tr th {\n",
       "        vertical-align: top;\n",
       "    }\n",
       "\n",
       "    .dataframe thead th {\n",
       "        text-align: right;\n",
       "    }\n",
       "</style>\n",
       "<table border=\"1\" class=\"dataframe\">\n",
       "  <thead>\n",
       "    <tr style=\"text-align: right;\">\n",
       "      <th></th>\n",
       "      <th>user_id</th>\n",
       "      <th>signup_time</th>\n",
       "      <th>purchase_time</th>\n",
       "      <th>purchase_value</th>\n",
       "      <th>device_id</th>\n",
       "      <th>source</th>\n",
       "      <th>browser</th>\n",
       "      <th>sex</th>\n",
       "      <th>age</th>\n",
       "      <th>ip_address</th>\n",
       "      <th>class</th>\n",
       "    </tr>\n",
       "  </thead>\n",
       "  <tbody>\n",
       "    <tr>\n",
       "      <th>0</th>\n",
       "      <td>22058</td>\n",
       "      <td>2015-02-24 22:55:49</td>\n",
       "      <td>2015-04-18 02:47:11</td>\n",
       "      <td>34</td>\n",
       "      <td>QVPSPJUOCKZAR</td>\n",
       "      <td>SEO</td>\n",
       "      <td>Chrome</td>\n",
       "      <td>M</td>\n",
       "      <td>39</td>\n",
       "      <td>7.327584e+08</td>\n",
       "      <td>0</td>\n",
       "    </tr>\n",
       "    <tr>\n",
       "      <th>1</th>\n",
       "      <td>333320</td>\n",
       "      <td>2015-06-07 20:39:50</td>\n",
       "      <td>2015-06-08 01:38:54</td>\n",
       "      <td>16</td>\n",
       "      <td>EOGFQPIZPYXFZ</td>\n",
       "      <td>Ads</td>\n",
       "      <td>Chrome</td>\n",
       "      <td>F</td>\n",
       "      <td>53</td>\n",
       "      <td>3.503114e+08</td>\n",
       "      <td>0</td>\n",
       "    </tr>\n",
       "    <tr>\n",
       "      <th>2</th>\n",
       "      <td>1359</td>\n",
       "      <td>2015-01-01 18:52:44</td>\n",
       "      <td>2015-01-01 18:52:45</td>\n",
       "      <td>15</td>\n",
       "      <td>YSSKYOSJHPPLJ</td>\n",
       "      <td>SEO</td>\n",
       "      <td>Opera</td>\n",
       "      <td>M</td>\n",
       "      <td>53</td>\n",
       "      <td>2.621474e+09</td>\n",
       "      <td>1</td>\n",
       "    </tr>\n",
       "    <tr>\n",
       "      <th>3</th>\n",
       "      <td>150084</td>\n",
       "      <td>2015-04-28 21:13:25</td>\n",
       "      <td>2015-05-04 13:54:50</td>\n",
       "      <td>44</td>\n",
       "      <td>ATGTXKYKUDUQN</td>\n",
       "      <td>SEO</td>\n",
       "      <td>Safari</td>\n",
       "      <td>M</td>\n",
       "      <td>41</td>\n",
       "      <td>3.840542e+09</td>\n",
       "      <td>0</td>\n",
       "    </tr>\n",
       "    <tr>\n",
       "      <th>4</th>\n",
       "      <td>221365</td>\n",
       "      <td>2015-07-21 07:09:52</td>\n",
       "      <td>2015-09-09 18:40:53</td>\n",
       "      <td>39</td>\n",
       "      <td>NAUITBZFJKHWW</td>\n",
       "      <td>Ads</td>\n",
       "      <td>Safari</td>\n",
       "      <td>M</td>\n",
       "      <td>45</td>\n",
       "      <td>4.155831e+08</td>\n",
       "      <td>0</td>\n",
       "    </tr>\n",
       "    <tr>\n",
       "      <th>5</th>\n",
       "      <td>159135</td>\n",
       "      <td>2015-05-21 06:03:03</td>\n",
       "      <td>2015-07-09 08:05:14</td>\n",
       "      <td>42</td>\n",
       "      <td>ALEYXFXINSXLZ</td>\n",
       "      <td>Ads</td>\n",
       "      <td>Chrome</td>\n",
       "      <td>M</td>\n",
       "      <td>18</td>\n",
       "      <td>2.809315e+09</td>\n",
       "      <td>0</td>\n",
       "    </tr>\n",
       "  </tbody>\n",
       "</table>\n",
       "</div>"
      ],
      "text/plain": [
       "   user_id          signup_time        purchase_time  purchase_value  \\\n",
       "0    22058  2015-02-24 22:55:49  2015-04-18 02:47:11              34   \n",
       "1   333320  2015-06-07 20:39:50  2015-06-08 01:38:54              16   \n",
       "2     1359  2015-01-01 18:52:44  2015-01-01 18:52:45              15   \n",
       "3   150084  2015-04-28 21:13:25  2015-05-04 13:54:50              44   \n",
       "4   221365  2015-07-21 07:09:52  2015-09-09 18:40:53              39   \n",
       "5   159135  2015-05-21 06:03:03  2015-07-09 08:05:14              42   \n",
       "\n",
       "       device_id source browser sex  age    ip_address  class  \n",
       "0  QVPSPJUOCKZAR    SEO  Chrome   M   39  7.327584e+08      0  \n",
       "1  EOGFQPIZPYXFZ    Ads  Chrome   F   53  3.503114e+08      0  \n",
       "2  YSSKYOSJHPPLJ    SEO   Opera   M   53  2.621474e+09      1  \n",
       "3  ATGTXKYKUDUQN    SEO  Safari   M   41  3.840542e+09      0  \n",
       "4  NAUITBZFJKHWW    Ads  Safari   M   45  4.155831e+08      0  \n",
       "5  ALEYXFXINSXLZ    Ads  Chrome   M   18  2.809315e+09      0  "
      ]
     },
     "execution_count": 4,
     "metadata": {},
     "output_type": "execute_result"
    }
   ],
   "source": [
    "df1.head(6)"
   ]
  },
  {
   "cell_type": "code",
   "execution_count": 5,
   "metadata": {},
   "outputs": [],
   "source": [
    "ip_country = pd.read_csv(\"s3://full-stack-bigdata-datasets/Machine Learning Supervisé/projects/fraudulent_activity/IpAddress_to_Country.csv\")"
   ]
  },
  {
   "cell_type": "code",
   "execution_count": 6,
   "metadata": {},
   "outputs": [
    {
     "data": {
      "text/html": [
       "<div>\n",
       "<style scoped>\n",
       "    .dataframe tbody tr th:only-of-type {\n",
       "        vertical-align: middle;\n",
       "    }\n",
       "\n",
       "    .dataframe tbody tr th {\n",
       "        vertical-align: top;\n",
       "    }\n",
       "\n",
       "    .dataframe thead th {\n",
       "        text-align: right;\n",
       "    }\n",
       "</style>\n",
       "<table border=\"1\" class=\"dataframe\">\n",
       "  <thead>\n",
       "    <tr style=\"text-align: right;\">\n",
       "      <th></th>\n",
       "      <th>lower_bound_ip_address</th>\n",
       "      <th>upper_bound_ip_address</th>\n",
       "      <th>country</th>\n",
       "    </tr>\n",
       "  </thead>\n",
       "  <tbody>\n",
       "    <tr>\n",
       "      <th>0</th>\n",
       "      <td>16777216.0</td>\n",
       "      <td>16777471</td>\n",
       "      <td>Australia</td>\n",
       "    </tr>\n",
       "    <tr>\n",
       "      <th>1</th>\n",
       "      <td>16777472.0</td>\n",
       "      <td>16777727</td>\n",
       "      <td>China</td>\n",
       "    </tr>\n",
       "    <tr>\n",
       "      <th>2</th>\n",
       "      <td>16777728.0</td>\n",
       "      <td>16778239</td>\n",
       "      <td>China</td>\n",
       "    </tr>\n",
       "    <tr>\n",
       "      <th>3</th>\n",
       "      <td>16778240.0</td>\n",
       "      <td>16779263</td>\n",
       "      <td>Australia</td>\n",
       "    </tr>\n",
       "    <tr>\n",
       "      <th>4</th>\n",
       "      <td>16779264.0</td>\n",
       "      <td>16781311</td>\n",
       "      <td>China</td>\n",
       "    </tr>\n",
       "    <tr>\n",
       "      <th>5</th>\n",
       "      <td>16781312.0</td>\n",
       "      <td>16785407</td>\n",
       "      <td>Japan</td>\n",
       "    </tr>\n",
       "  </tbody>\n",
       "</table>\n",
       "</div>"
      ],
      "text/plain": [
       "   lower_bound_ip_address  upper_bound_ip_address    country\n",
       "0              16777216.0                16777471  Australia\n",
       "1              16777472.0                16777727      China\n",
       "2              16777728.0                16778239      China\n",
       "3              16778240.0                16779263  Australia\n",
       "4              16779264.0                16781311      China\n",
       "5              16781312.0                16785407      Japan"
      ]
     },
     "execution_count": 6,
     "metadata": {},
     "output_type": "execute_result"
    }
   ],
   "source": [
    "ip_country.head(6)"
   ]
  },
  {
   "cell_type": "code",
   "execution_count": 7,
   "metadata": {},
   "outputs": [
    {
     "data": {
      "text/plain": [
       "(151112, 11)"
      ]
     },
     "execution_count": 7,
     "metadata": {},
     "output_type": "execute_result"
    }
   ],
   "source": [
    "df1.shape"
   ]
  },
  {
   "cell_type": "code",
   "execution_count": 8,
   "metadata": {},
   "outputs": [
    {
     "data": {
      "text/plain": [
       "(138846, 3)"
      ]
     },
     "execution_count": 8,
     "metadata": {},
     "output_type": "execute_result"
    }
   ],
   "source": [
    "ip_country.shape"
   ]
  },
  {
   "cell_type": "code",
   "execution_count": 9,
   "metadata": {},
   "outputs": [
    {
     "data": {
      "text/plain": [
       "0         7.327584e+08\n",
       "1         3.503114e+08\n",
       "2         2.621474e+09\n",
       "3         3.840542e+09\n",
       "4         4.155831e+08\n",
       "              ...     \n",
       "151107    3.451155e+09\n",
       "151108    2.439047e+09\n",
       "151109    2.748471e+09\n",
       "151110    3.601175e+09\n",
       "151111    4.103825e+09\n",
       "Name: ip_address, Length: 151112, dtype: float64"
      ]
     },
     "execution_count": 9,
     "metadata": {},
     "output_type": "execute_result"
    }
   ],
   "source": [
    "df1['ip_address']"
   ]
  },
  {
   "cell_type": "code",
   "execution_count": 10,
   "metadata": {},
   "outputs": [
    {
     "data": {
      "text/html": [
       "<div>\n",
       "<style scoped>\n",
       "    .dataframe tbody tr th:only-of-type {\n",
       "        vertical-align: middle;\n",
       "    }\n",
       "\n",
       "    .dataframe tbody tr th {\n",
       "        vertical-align: top;\n",
       "    }\n",
       "\n",
       "    .dataframe thead th {\n",
       "        text-align: right;\n",
       "    }\n",
       "</style>\n",
       "<table border=\"1\" class=\"dataframe\">\n",
       "  <thead>\n",
       "    <tr style=\"text-align: right;\">\n",
       "      <th></th>\n",
       "      <th>user_id</th>\n",
       "      <th>signup_time</th>\n",
       "      <th>purchase_time</th>\n",
       "      <th>purchase_value</th>\n",
       "      <th>device_id</th>\n",
       "      <th>source</th>\n",
       "      <th>browser</th>\n",
       "      <th>sex</th>\n",
       "      <th>age</th>\n",
       "      <th>ip_address</th>\n",
       "      <th>class</th>\n",
       "    </tr>\n",
       "  </thead>\n",
       "  <tbody>\n",
       "    <tr>\n",
       "      <th>count</th>\n",
       "      <td>151112.000000</td>\n",
       "      <td>151112</td>\n",
       "      <td>151112</td>\n",
       "      <td>151112.000000</td>\n",
       "      <td>151112</td>\n",
       "      <td>151112</td>\n",
       "      <td>151112</td>\n",
       "      <td>151112</td>\n",
       "      <td>151112.000000</td>\n",
       "      <td>1.511120e+05</td>\n",
       "      <td>151112.000000</td>\n",
       "    </tr>\n",
       "    <tr>\n",
       "      <th>unique</th>\n",
       "      <td>NaN</td>\n",
       "      <td>151112</td>\n",
       "      <td>150679</td>\n",
       "      <td>NaN</td>\n",
       "      <td>137956</td>\n",
       "      <td>3</td>\n",
       "      <td>5</td>\n",
       "      <td>2</td>\n",
       "      <td>NaN</td>\n",
       "      <td>NaN</td>\n",
       "      <td>NaN</td>\n",
       "    </tr>\n",
       "    <tr>\n",
       "      <th>top</th>\n",
       "      <td>NaN</td>\n",
       "      <td>2015-04-28 12:29:12</td>\n",
       "      <td>2015-07-17 23:22:55</td>\n",
       "      <td>NaN</td>\n",
       "      <td>ZUSVMDEZRBDTX</td>\n",
       "      <td>SEO</td>\n",
       "      <td>Chrome</td>\n",
       "      <td>M</td>\n",
       "      <td>NaN</td>\n",
       "      <td>NaN</td>\n",
       "      <td>NaN</td>\n",
       "    </tr>\n",
       "    <tr>\n",
       "      <th>freq</th>\n",
       "      <td>NaN</td>\n",
       "      <td>1</td>\n",
       "      <td>3</td>\n",
       "      <td>NaN</td>\n",
       "      <td>20</td>\n",
       "      <td>60615</td>\n",
       "      <td>61432</td>\n",
       "      <td>88293</td>\n",
       "      <td>NaN</td>\n",
       "      <td>NaN</td>\n",
       "      <td>NaN</td>\n",
       "    </tr>\n",
       "    <tr>\n",
       "      <th>mean</th>\n",
       "      <td>200171.040970</td>\n",
       "      <td>NaN</td>\n",
       "      <td>NaN</td>\n",
       "      <td>36.935372</td>\n",
       "      <td>NaN</td>\n",
       "      <td>NaN</td>\n",
       "      <td>NaN</td>\n",
       "      <td>NaN</td>\n",
       "      <td>33.140704</td>\n",
       "      <td>2.152145e+09</td>\n",
       "      <td>0.093646</td>\n",
       "    </tr>\n",
       "    <tr>\n",
       "      <th>std</th>\n",
       "      <td>115369.285024</td>\n",
       "      <td>NaN</td>\n",
       "      <td>NaN</td>\n",
       "      <td>18.322762</td>\n",
       "      <td>NaN</td>\n",
       "      <td>NaN</td>\n",
       "      <td>NaN</td>\n",
       "      <td>NaN</td>\n",
       "      <td>8.617733</td>\n",
       "      <td>1.248497e+09</td>\n",
       "      <td>0.291336</td>\n",
       "    </tr>\n",
       "    <tr>\n",
       "      <th>min</th>\n",
       "      <td>2.000000</td>\n",
       "      <td>NaN</td>\n",
       "      <td>NaN</td>\n",
       "      <td>9.000000</td>\n",
       "      <td>NaN</td>\n",
       "      <td>NaN</td>\n",
       "      <td>NaN</td>\n",
       "      <td>NaN</td>\n",
       "      <td>18.000000</td>\n",
       "      <td>5.209350e+04</td>\n",
       "      <td>0.000000</td>\n",
       "    </tr>\n",
       "    <tr>\n",
       "      <th>25%</th>\n",
       "      <td>100642.500000</td>\n",
       "      <td>NaN</td>\n",
       "      <td>NaN</td>\n",
       "      <td>22.000000</td>\n",
       "      <td>NaN</td>\n",
       "      <td>NaN</td>\n",
       "      <td>NaN</td>\n",
       "      <td>NaN</td>\n",
       "      <td>27.000000</td>\n",
       "      <td>1.085934e+09</td>\n",
       "      <td>0.000000</td>\n",
       "    </tr>\n",
       "    <tr>\n",
       "      <th>50%</th>\n",
       "      <td>199958.000000</td>\n",
       "      <td>NaN</td>\n",
       "      <td>NaN</td>\n",
       "      <td>35.000000</td>\n",
       "      <td>NaN</td>\n",
       "      <td>NaN</td>\n",
       "      <td>NaN</td>\n",
       "      <td>NaN</td>\n",
       "      <td>33.000000</td>\n",
       "      <td>2.154770e+09</td>\n",
       "      <td>0.000000</td>\n",
       "    </tr>\n",
       "    <tr>\n",
       "      <th>75%</th>\n",
       "      <td>300054.000000</td>\n",
       "      <td>NaN</td>\n",
       "      <td>NaN</td>\n",
       "      <td>49.000000</td>\n",
       "      <td>NaN</td>\n",
       "      <td>NaN</td>\n",
       "      <td>NaN</td>\n",
       "      <td>NaN</td>\n",
       "      <td>39.000000</td>\n",
       "      <td>3.243258e+09</td>\n",
       "      <td>0.000000</td>\n",
       "    </tr>\n",
       "    <tr>\n",
       "      <th>max</th>\n",
       "      <td>400000.000000</td>\n",
       "      <td>NaN</td>\n",
       "      <td>NaN</td>\n",
       "      <td>154.000000</td>\n",
       "      <td>NaN</td>\n",
       "      <td>NaN</td>\n",
       "      <td>NaN</td>\n",
       "      <td>NaN</td>\n",
       "      <td>76.000000</td>\n",
       "      <td>4.294850e+09</td>\n",
       "      <td>1.000000</td>\n",
       "    </tr>\n",
       "  </tbody>\n",
       "</table>\n",
       "</div>"
      ],
      "text/plain": [
       "              user_id          signup_time        purchase_time  \\\n",
       "count   151112.000000               151112               151112   \n",
       "unique            NaN               151112               150679   \n",
       "top               NaN  2015-04-28 12:29:12  2015-07-17 23:22:55   \n",
       "freq              NaN                    1                    3   \n",
       "mean    200171.040970                  NaN                  NaN   \n",
       "std     115369.285024                  NaN                  NaN   \n",
       "min          2.000000                  NaN                  NaN   \n",
       "25%     100642.500000                  NaN                  NaN   \n",
       "50%     199958.000000                  NaN                  NaN   \n",
       "75%     300054.000000                  NaN                  NaN   \n",
       "max     400000.000000                  NaN                  NaN   \n",
       "\n",
       "        purchase_value      device_id  source browser     sex            age  \\\n",
       "count    151112.000000         151112  151112  151112  151112  151112.000000   \n",
       "unique             NaN         137956       3       5       2            NaN   \n",
       "top                NaN  ZUSVMDEZRBDTX     SEO  Chrome       M            NaN   \n",
       "freq               NaN             20   60615   61432   88293            NaN   \n",
       "mean         36.935372            NaN     NaN     NaN     NaN      33.140704   \n",
       "std          18.322762            NaN     NaN     NaN     NaN       8.617733   \n",
       "min           9.000000            NaN     NaN     NaN     NaN      18.000000   \n",
       "25%          22.000000            NaN     NaN     NaN     NaN      27.000000   \n",
       "50%          35.000000            NaN     NaN     NaN     NaN      33.000000   \n",
       "75%          49.000000            NaN     NaN     NaN     NaN      39.000000   \n",
       "max         154.000000            NaN     NaN     NaN     NaN      76.000000   \n",
       "\n",
       "          ip_address          class  \n",
       "count   1.511120e+05  151112.000000  \n",
       "unique           NaN            NaN  \n",
       "top              NaN            NaN  \n",
       "freq             NaN            NaN  \n",
       "mean    2.152145e+09       0.093646  \n",
       "std     1.248497e+09       0.291336  \n",
       "min     5.209350e+04       0.000000  \n",
       "25%     1.085934e+09       0.000000  \n",
       "50%     2.154770e+09       0.000000  \n",
       "75%     3.243258e+09       0.000000  \n",
       "max     4.294850e+09       1.000000  "
      ]
     },
     "execution_count": 10,
     "metadata": {},
     "output_type": "execute_result"
    }
   ],
   "source": [
    "df1.describe(include='all')"
   ]
  },
  {
   "cell_type": "code",
   "execution_count": 11,
   "metadata": {},
   "outputs": [
    {
     "data": {
      "text/plain": [
       "lower_bound_ip_address    138846\n",
       "upper_bound_ip_address    138846\n",
       "country                   138846\n",
       "dtype: int64"
      ]
     },
     "execution_count": 11,
     "metadata": {},
     "output_type": "execute_result"
    }
   ],
   "source": [
    "ip_country.isnull().count()"
   ]
  },
  {
   "cell_type": "markdown",
   "metadata": {},
   "source": [
    "## Country of origin from IP address"
   ]
  },
  {
   "cell_type": "code",
   "execution_count": 12,
   "metadata": {},
   "outputs": [],
   "source": [
    "# Revoir la Methode\n",
    "def transform_ip(arg):\n",
    "    try:\n",
    "        return ip_country.country[(ip_country.lower_bound_ip_address < arg) & (ip_country.upper_bound_ip_address > arg)].iloc[0]\n",
    "    except IndexError:\n",
    "        return \"Unknown country\"  \n",
    "      \n",
    "df1[\"country_name\"] = df1.ip_address.apply(transform_ip)"
   ]
  },
  {
   "cell_type": "code",
   "execution_count": 13,
   "metadata": {},
   "outputs": [
    {
     "data": {
      "text/html": [
       "<div>\n",
       "<style scoped>\n",
       "    .dataframe tbody tr th:only-of-type {\n",
       "        vertical-align: middle;\n",
       "    }\n",
       "\n",
       "    .dataframe tbody tr th {\n",
       "        vertical-align: top;\n",
       "    }\n",
       "\n",
       "    .dataframe thead th {\n",
       "        text-align: right;\n",
       "    }\n",
       "</style>\n",
       "<table border=\"1\" class=\"dataframe\">\n",
       "  <thead>\n",
       "    <tr style=\"text-align: right;\">\n",
       "      <th></th>\n",
       "      <th>user_id</th>\n",
       "      <th>signup_time</th>\n",
       "      <th>purchase_time</th>\n",
       "      <th>purchase_value</th>\n",
       "      <th>device_id</th>\n",
       "      <th>source</th>\n",
       "      <th>browser</th>\n",
       "      <th>sex</th>\n",
       "      <th>age</th>\n",
       "      <th>ip_address</th>\n",
       "      <th>class</th>\n",
       "      <th>country_name</th>\n",
       "    </tr>\n",
       "  </thead>\n",
       "  <tbody>\n",
       "    <tr>\n",
       "      <th>0</th>\n",
       "      <td>22058</td>\n",
       "      <td>2015-02-24 22:55:49</td>\n",
       "      <td>2015-04-18 02:47:11</td>\n",
       "      <td>34</td>\n",
       "      <td>QVPSPJUOCKZAR</td>\n",
       "      <td>SEO</td>\n",
       "      <td>Chrome</td>\n",
       "      <td>M</td>\n",
       "      <td>39</td>\n",
       "      <td>7.327584e+08</td>\n",
       "      <td>0</td>\n",
       "      <td>Japan</td>\n",
       "    </tr>\n",
       "    <tr>\n",
       "      <th>1</th>\n",
       "      <td>333320</td>\n",
       "      <td>2015-06-07 20:39:50</td>\n",
       "      <td>2015-06-08 01:38:54</td>\n",
       "      <td>16</td>\n",
       "      <td>EOGFQPIZPYXFZ</td>\n",
       "      <td>Ads</td>\n",
       "      <td>Chrome</td>\n",
       "      <td>F</td>\n",
       "      <td>53</td>\n",
       "      <td>3.503114e+08</td>\n",
       "      <td>0</td>\n",
       "      <td>United States</td>\n",
       "    </tr>\n",
       "    <tr>\n",
       "      <th>2</th>\n",
       "      <td>1359</td>\n",
       "      <td>2015-01-01 18:52:44</td>\n",
       "      <td>2015-01-01 18:52:45</td>\n",
       "      <td>15</td>\n",
       "      <td>YSSKYOSJHPPLJ</td>\n",
       "      <td>SEO</td>\n",
       "      <td>Opera</td>\n",
       "      <td>M</td>\n",
       "      <td>53</td>\n",
       "      <td>2.621474e+09</td>\n",
       "      <td>1</td>\n",
       "      <td>United States</td>\n",
       "    </tr>\n",
       "    <tr>\n",
       "      <th>3</th>\n",
       "      <td>150084</td>\n",
       "      <td>2015-04-28 21:13:25</td>\n",
       "      <td>2015-05-04 13:54:50</td>\n",
       "      <td>44</td>\n",
       "      <td>ATGTXKYKUDUQN</td>\n",
       "      <td>SEO</td>\n",
       "      <td>Safari</td>\n",
       "      <td>M</td>\n",
       "      <td>41</td>\n",
       "      <td>3.840542e+09</td>\n",
       "      <td>0</td>\n",
       "      <td>Unknown country</td>\n",
       "    </tr>\n",
       "    <tr>\n",
       "      <th>4</th>\n",
       "      <td>221365</td>\n",
       "      <td>2015-07-21 07:09:52</td>\n",
       "      <td>2015-09-09 18:40:53</td>\n",
       "      <td>39</td>\n",
       "      <td>NAUITBZFJKHWW</td>\n",
       "      <td>Ads</td>\n",
       "      <td>Safari</td>\n",
       "      <td>M</td>\n",
       "      <td>45</td>\n",
       "      <td>4.155831e+08</td>\n",
       "      <td>0</td>\n",
       "      <td>United States</td>\n",
       "    </tr>\n",
       "    <tr>\n",
       "      <th>5</th>\n",
       "      <td>159135</td>\n",
       "      <td>2015-05-21 06:03:03</td>\n",
       "      <td>2015-07-09 08:05:14</td>\n",
       "      <td>42</td>\n",
       "      <td>ALEYXFXINSXLZ</td>\n",
       "      <td>Ads</td>\n",
       "      <td>Chrome</td>\n",
       "      <td>M</td>\n",
       "      <td>18</td>\n",
       "      <td>2.809315e+09</td>\n",
       "      <td>0</td>\n",
       "      <td>Canada</td>\n",
       "    </tr>\n",
       "    <tr>\n",
       "      <th>6</th>\n",
       "      <td>50116</td>\n",
       "      <td>2015-08-01 22:40:52</td>\n",
       "      <td>2015-08-27 03:37:57</td>\n",
       "      <td>11</td>\n",
       "      <td>IWKVZHJOCLPUR</td>\n",
       "      <td>Ads</td>\n",
       "      <td>Chrome</td>\n",
       "      <td>F</td>\n",
       "      <td>19</td>\n",
       "      <td>3.987484e+09</td>\n",
       "      <td>0</td>\n",
       "      <td>Unknown country</td>\n",
       "    </tr>\n",
       "    <tr>\n",
       "      <th>7</th>\n",
       "      <td>360585</td>\n",
       "      <td>2015-04-06 07:35:45</td>\n",
       "      <td>2015-05-25 17:21:14</td>\n",
       "      <td>27</td>\n",
       "      <td>HPUCUYLMJBYFW</td>\n",
       "      <td>Ads</td>\n",
       "      <td>Opera</td>\n",
       "      <td>M</td>\n",
       "      <td>34</td>\n",
       "      <td>1.692459e+09</td>\n",
       "      <td>0</td>\n",
       "      <td>United States</td>\n",
       "    </tr>\n",
       "    <tr>\n",
       "      <th>8</th>\n",
       "      <td>159045</td>\n",
       "      <td>2015-04-21 23:38:34</td>\n",
       "      <td>2015-06-02 14:01:54</td>\n",
       "      <td>30</td>\n",
       "      <td>ILXYDOZIHOOHT</td>\n",
       "      <td>SEO</td>\n",
       "      <td>IE</td>\n",
       "      <td>F</td>\n",
       "      <td>43</td>\n",
       "      <td>3.719094e+09</td>\n",
       "      <td>0</td>\n",
       "      <td>China</td>\n",
       "    </tr>\n",
       "    <tr>\n",
       "      <th>9</th>\n",
       "      <td>182338</td>\n",
       "      <td>2015-01-25 17:49:49</td>\n",
       "      <td>2015-03-23 23:05:42</td>\n",
       "      <td>62</td>\n",
       "      <td>NRFFPPHZYFUVC</td>\n",
       "      <td>Ads</td>\n",
       "      <td>IE</td>\n",
       "      <td>M</td>\n",
       "      <td>31</td>\n",
       "      <td>3.416747e+08</td>\n",
       "      <td>0</td>\n",
       "      <td>United States</td>\n",
       "    </tr>\n",
       "  </tbody>\n",
       "</table>\n",
       "</div>"
      ],
      "text/plain": [
       "   user_id          signup_time        purchase_time  purchase_value  \\\n",
       "0    22058  2015-02-24 22:55:49  2015-04-18 02:47:11              34   \n",
       "1   333320  2015-06-07 20:39:50  2015-06-08 01:38:54              16   \n",
       "2     1359  2015-01-01 18:52:44  2015-01-01 18:52:45              15   \n",
       "3   150084  2015-04-28 21:13:25  2015-05-04 13:54:50              44   \n",
       "4   221365  2015-07-21 07:09:52  2015-09-09 18:40:53              39   \n",
       "5   159135  2015-05-21 06:03:03  2015-07-09 08:05:14              42   \n",
       "6    50116  2015-08-01 22:40:52  2015-08-27 03:37:57              11   \n",
       "7   360585  2015-04-06 07:35:45  2015-05-25 17:21:14              27   \n",
       "8   159045  2015-04-21 23:38:34  2015-06-02 14:01:54              30   \n",
       "9   182338  2015-01-25 17:49:49  2015-03-23 23:05:42              62   \n",
       "\n",
       "       device_id source browser sex  age    ip_address  class     country_name  \n",
       "0  QVPSPJUOCKZAR    SEO  Chrome   M   39  7.327584e+08      0            Japan  \n",
       "1  EOGFQPIZPYXFZ    Ads  Chrome   F   53  3.503114e+08      0    United States  \n",
       "2  YSSKYOSJHPPLJ    SEO   Opera   M   53  2.621474e+09      1    United States  \n",
       "3  ATGTXKYKUDUQN    SEO  Safari   M   41  3.840542e+09      0  Unknown country  \n",
       "4  NAUITBZFJKHWW    Ads  Safari   M   45  4.155831e+08      0    United States  \n",
       "5  ALEYXFXINSXLZ    Ads  Chrome   M   18  2.809315e+09      0           Canada  \n",
       "6  IWKVZHJOCLPUR    Ads  Chrome   F   19  3.987484e+09      0  Unknown country  \n",
       "7  HPUCUYLMJBYFW    Ads   Opera   M   34  1.692459e+09      0    United States  \n",
       "8  ILXYDOZIHOOHT    SEO      IE   F   43  3.719094e+09      0            China  \n",
       "9  NRFFPPHZYFUVC    Ads      IE   M   31  3.416747e+08      0    United States  "
      ]
     },
     "execution_count": 13,
     "metadata": {},
     "output_type": "execute_result"
    }
   ],
   "source": [
    "df1.head(10)"
   ]
  },
  {
   "cell_type": "markdown",
   "metadata": {},
   "source": [
    "## Management - Transformation - Restructuring of Dates / Times"
   ]
  },
  {
   "cell_type": "code",
   "execution_count": 14,
   "metadata": {},
   "outputs": [],
   "source": [
    "df1.signup_time = pd.to_datetime(df1.signup_time, format=\"%Y-%m-%d %H:%M:%S\")\n",
    "df1.purchase_time = pd.to_datetime(df1.purchase_time, format=\"%Y-%m-%d %H:%M:%S\")\n",
    "df1[\"time_delta\"] = (df1.purchase_time - df1.signup_time) / np.timedelta64(1, 's')"
   ]
  },
  {
   "cell_type": "code",
   "execution_count": 15,
   "metadata": {},
   "outputs": [
    {
     "data": {
      "text/html": [
       "<div>\n",
       "<style scoped>\n",
       "    .dataframe tbody tr th:only-of-type {\n",
       "        vertical-align: middle;\n",
       "    }\n",
       "\n",
       "    .dataframe tbody tr th {\n",
       "        vertical-align: top;\n",
       "    }\n",
       "\n",
       "    .dataframe thead th {\n",
       "        text-align: right;\n",
       "    }\n",
       "</style>\n",
       "<table border=\"1\" class=\"dataframe\">\n",
       "  <thead>\n",
       "    <tr style=\"text-align: right;\">\n",
       "      <th></th>\n",
       "      <th>user_id</th>\n",
       "      <th>signup_time</th>\n",
       "      <th>purchase_time</th>\n",
       "      <th>purchase_value</th>\n",
       "      <th>device_id</th>\n",
       "      <th>source</th>\n",
       "      <th>browser</th>\n",
       "      <th>sex</th>\n",
       "      <th>age</th>\n",
       "      <th>ip_address</th>\n",
       "      <th>class</th>\n",
       "      <th>country_name</th>\n",
       "      <th>time_delta</th>\n",
       "      <th>year</th>\n",
       "      <th>month</th>\n",
       "    </tr>\n",
       "  </thead>\n",
       "  <tbody>\n",
       "    <tr>\n",
       "      <th>0</th>\n",
       "      <td>22058</td>\n",
       "      <td>2015-02-24 22:55:49</td>\n",
       "      <td>2015-04-18 02:47:11</td>\n",
       "      <td>34</td>\n",
       "      <td>QVPSPJUOCKZAR</td>\n",
       "      <td>SEO</td>\n",
       "      <td>Chrome</td>\n",
       "      <td>M</td>\n",
       "      <td>39</td>\n",
       "      <td>7.327584e+08</td>\n",
       "      <td>0</td>\n",
       "      <td>Japan</td>\n",
       "      <td>4506682.0</td>\n",
       "      <td>2015</td>\n",
       "      <td>4</td>\n",
       "    </tr>\n",
       "    <tr>\n",
       "      <th>1</th>\n",
       "      <td>333320</td>\n",
       "      <td>2015-06-07 20:39:50</td>\n",
       "      <td>2015-06-08 01:38:54</td>\n",
       "      <td>16</td>\n",
       "      <td>EOGFQPIZPYXFZ</td>\n",
       "      <td>Ads</td>\n",
       "      <td>Chrome</td>\n",
       "      <td>F</td>\n",
       "      <td>53</td>\n",
       "      <td>3.503114e+08</td>\n",
       "      <td>0</td>\n",
       "      <td>United States</td>\n",
       "      <td>17944.0</td>\n",
       "      <td>2015</td>\n",
       "      <td>6</td>\n",
       "    </tr>\n",
       "    <tr>\n",
       "      <th>2</th>\n",
       "      <td>1359</td>\n",
       "      <td>2015-01-01 18:52:44</td>\n",
       "      <td>2015-01-01 18:52:45</td>\n",
       "      <td>15</td>\n",
       "      <td>YSSKYOSJHPPLJ</td>\n",
       "      <td>SEO</td>\n",
       "      <td>Opera</td>\n",
       "      <td>M</td>\n",
       "      <td>53</td>\n",
       "      <td>2.621474e+09</td>\n",
       "      <td>1</td>\n",
       "      <td>United States</td>\n",
       "      <td>1.0</td>\n",
       "      <td>2015</td>\n",
       "      <td>1</td>\n",
       "    </tr>\n",
       "    <tr>\n",
       "      <th>3</th>\n",
       "      <td>150084</td>\n",
       "      <td>2015-04-28 21:13:25</td>\n",
       "      <td>2015-05-04 13:54:50</td>\n",
       "      <td>44</td>\n",
       "      <td>ATGTXKYKUDUQN</td>\n",
       "      <td>SEO</td>\n",
       "      <td>Safari</td>\n",
       "      <td>M</td>\n",
       "      <td>41</td>\n",
       "      <td>3.840542e+09</td>\n",
       "      <td>0</td>\n",
       "      <td>Unknown country</td>\n",
       "      <td>492085.0</td>\n",
       "      <td>2015</td>\n",
       "      <td>5</td>\n",
       "    </tr>\n",
       "    <tr>\n",
       "      <th>4</th>\n",
       "      <td>221365</td>\n",
       "      <td>2015-07-21 07:09:52</td>\n",
       "      <td>2015-09-09 18:40:53</td>\n",
       "      <td>39</td>\n",
       "      <td>NAUITBZFJKHWW</td>\n",
       "      <td>Ads</td>\n",
       "      <td>Safari</td>\n",
       "      <td>M</td>\n",
       "      <td>45</td>\n",
       "      <td>4.155831e+08</td>\n",
       "      <td>0</td>\n",
       "      <td>United States</td>\n",
       "      <td>4361461.0</td>\n",
       "      <td>2015</td>\n",
       "      <td>9</td>\n",
       "    </tr>\n",
       "    <tr>\n",
       "      <th>5</th>\n",
       "      <td>159135</td>\n",
       "      <td>2015-05-21 06:03:03</td>\n",
       "      <td>2015-07-09 08:05:14</td>\n",
       "      <td>42</td>\n",
       "      <td>ALEYXFXINSXLZ</td>\n",
       "      <td>Ads</td>\n",
       "      <td>Chrome</td>\n",
       "      <td>M</td>\n",
       "      <td>18</td>\n",
       "      <td>2.809315e+09</td>\n",
       "      <td>0</td>\n",
       "      <td>Canada</td>\n",
       "      <td>4240931.0</td>\n",
       "      <td>2015</td>\n",
       "      <td>7</td>\n",
       "    </tr>\n",
       "    <tr>\n",
       "      <th>6</th>\n",
       "      <td>50116</td>\n",
       "      <td>2015-08-01 22:40:52</td>\n",
       "      <td>2015-08-27 03:37:57</td>\n",
       "      <td>11</td>\n",
       "      <td>IWKVZHJOCLPUR</td>\n",
       "      <td>Ads</td>\n",
       "      <td>Chrome</td>\n",
       "      <td>F</td>\n",
       "      <td>19</td>\n",
       "      <td>3.987484e+09</td>\n",
       "      <td>0</td>\n",
       "      <td>Unknown country</td>\n",
       "      <td>2177825.0</td>\n",
       "      <td>2015</td>\n",
       "      <td>8</td>\n",
       "    </tr>\n",
       "    <tr>\n",
       "      <th>7</th>\n",
       "      <td>360585</td>\n",
       "      <td>2015-04-06 07:35:45</td>\n",
       "      <td>2015-05-25 17:21:14</td>\n",
       "      <td>27</td>\n",
       "      <td>HPUCUYLMJBYFW</td>\n",
       "      <td>Ads</td>\n",
       "      <td>Opera</td>\n",
       "      <td>M</td>\n",
       "      <td>34</td>\n",
       "      <td>1.692459e+09</td>\n",
       "      <td>0</td>\n",
       "      <td>United States</td>\n",
       "      <td>4268729.0</td>\n",
       "      <td>2015</td>\n",
       "      <td>5</td>\n",
       "    </tr>\n",
       "    <tr>\n",
       "      <th>8</th>\n",
       "      <td>159045</td>\n",
       "      <td>2015-04-21 23:38:34</td>\n",
       "      <td>2015-06-02 14:01:54</td>\n",
       "      <td>30</td>\n",
       "      <td>ILXYDOZIHOOHT</td>\n",
       "      <td>SEO</td>\n",
       "      <td>IE</td>\n",
       "      <td>F</td>\n",
       "      <td>43</td>\n",
       "      <td>3.719094e+09</td>\n",
       "      <td>0</td>\n",
       "      <td>China</td>\n",
       "      <td>3594200.0</td>\n",
       "      <td>2015</td>\n",
       "      <td>6</td>\n",
       "    </tr>\n",
       "    <tr>\n",
       "      <th>9</th>\n",
       "      <td>182338</td>\n",
       "      <td>2015-01-25 17:49:49</td>\n",
       "      <td>2015-03-23 23:05:42</td>\n",
       "      <td>62</td>\n",
       "      <td>NRFFPPHZYFUVC</td>\n",
       "      <td>Ads</td>\n",
       "      <td>IE</td>\n",
       "      <td>M</td>\n",
       "      <td>31</td>\n",
       "      <td>3.416747e+08</td>\n",
       "      <td>0</td>\n",
       "      <td>United States</td>\n",
       "      <td>4943753.0</td>\n",
       "      <td>2015</td>\n",
       "      <td>3</td>\n",
       "    </tr>\n",
       "  </tbody>\n",
       "</table>\n",
       "</div>"
      ],
      "text/plain": [
       "   user_id         signup_time       purchase_time  purchase_value  \\\n",
       "0    22058 2015-02-24 22:55:49 2015-04-18 02:47:11              34   \n",
       "1   333320 2015-06-07 20:39:50 2015-06-08 01:38:54              16   \n",
       "2     1359 2015-01-01 18:52:44 2015-01-01 18:52:45              15   \n",
       "3   150084 2015-04-28 21:13:25 2015-05-04 13:54:50              44   \n",
       "4   221365 2015-07-21 07:09:52 2015-09-09 18:40:53              39   \n",
       "5   159135 2015-05-21 06:03:03 2015-07-09 08:05:14              42   \n",
       "6    50116 2015-08-01 22:40:52 2015-08-27 03:37:57              11   \n",
       "7   360585 2015-04-06 07:35:45 2015-05-25 17:21:14              27   \n",
       "8   159045 2015-04-21 23:38:34 2015-06-02 14:01:54              30   \n",
       "9   182338 2015-01-25 17:49:49 2015-03-23 23:05:42              62   \n",
       "\n",
       "       device_id source browser sex  age    ip_address  class  \\\n",
       "0  QVPSPJUOCKZAR    SEO  Chrome   M   39  7.327584e+08      0   \n",
       "1  EOGFQPIZPYXFZ    Ads  Chrome   F   53  3.503114e+08      0   \n",
       "2  YSSKYOSJHPPLJ    SEO   Opera   M   53  2.621474e+09      1   \n",
       "3  ATGTXKYKUDUQN    SEO  Safari   M   41  3.840542e+09      0   \n",
       "4  NAUITBZFJKHWW    Ads  Safari   M   45  4.155831e+08      0   \n",
       "5  ALEYXFXINSXLZ    Ads  Chrome   M   18  2.809315e+09      0   \n",
       "6  IWKVZHJOCLPUR    Ads  Chrome   F   19  3.987484e+09      0   \n",
       "7  HPUCUYLMJBYFW    Ads   Opera   M   34  1.692459e+09      0   \n",
       "8  ILXYDOZIHOOHT    SEO      IE   F   43  3.719094e+09      0   \n",
       "9  NRFFPPHZYFUVC    Ads      IE   M   31  3.416747e+08      0   \n",
       "\n",
       "      country_name  time_delta  year  month  \n",
       "0            Japan   4506682.0  2015      4  \n",
       "1    United States     17944.0  2015      6  \n",
       "2    United States         1.0  2015      1  \n",
       "3  Unknown country    492085.0  2015      5  \n",
       "4    United States   4361461.0  2015      9  \n",
       "5           Canada   4240931.0  2015      7  \n",
       "6  Unknown country   2177825.0  2015      8  \n",
       "7    United States   4268729.0  2015      5  \n",
       "8            China   3594200.0  2015      6  \n",
       "9    United States   4943753.0  2015      3  "
      ]
     },
     "execution_count": 15,
     "metadata": {},
     "output_type": "execute_result"
    }
   ],
   "source": [
    "df1['year'] = pd.DatetimeIndex(df1['purchase_time']).year\n",
    "df1['month'] = pd.DatetimeIndex(df1['purchase_time']).month\n",
    "df1.head(10)"
   ]
  },
  {
   "cell_type": "code",
   "execution_count": 16,
   "metadata": {},
   "outputs": [
    {
     "data": {
      "text/html": [
       "<div>\n",
       "<style scoped>\n",
       "    .dataframe tbody tr th:only-of-type {\n",
       "        vertical-align: middle;\n",
       "    }\n",
       "\n",
       "    .dataframe tbody tr th {\n",
       "        vertical-align: top;\n",
       "    }\n",
       "\n",
       "    .dataframe thead th {\n",
       "        text-align: right;\n",
       "    }\n",
       "</style>\n",
       "<table border=\"1\" class=\"dataframe\">\n",
       "  <thead>\n",
       "    <tr style=\"text-align: right;\">\n",
       "      <th></th>\n",
       "      <th>signup_time</th>\n",
       "      <th>purchase_time</th>\n",
       "      <th>purchase_value</th>\n",
       "      <th>device_id</th>\n",
       "      <th>source</th>\n",
       "      <th>browser</th>\n",
       "      <th>sex</th>\n",
       "      <th>age</th>\n",
       "      <th>ip_address</th>\n",
       "      <th>class</th>\n",
       "      <th>country_name</th>\n",
       "      <th>time_delta</th>\n",
       "      <th>year</th>\n",
       "      <th>month</th>\n",
       "    </tr>\n",
       "  </thead>\n",
       "  <tbody>\n",
       "    <tr>\n",
       "      <th>0</th>\n",
       "      <td>2015-02-24 22:55:49</td>\n",
       "      <td>2015-04-18 02:47:11</td>\n",
       "      <td>34</td>\n",
       "      <td>QVPSPJUOCKZAR</td>\n",
       "      <td>SEO</td>\n",
       "      <td>Chrome</td>\n",
       "      <td>M</td>\n",
       "      <td>39</td>\n",
       "      <td>7.327584e+08</td>\n",
       "      <td>0</td>\n",
       "      <td>Japan</td>\n",
       "      <td>4506682.0</td>\n",
       "      <td>2015</td>\n",
       "      <td>4</td>\n",
       "    </tr>\n",
       "    <tr>\n",
       "      <th>1</th>\n",
       "      <td>2015-06-07 20:39:50</td>\n",
       "      <td>2015-06-08 01:38:54</td>\n",
       "      <td>16</td>\n",
       "      <td>EOGFQPIZPYXFZ</td>\n",
       "      <td>Ads</td>\n",
       "      <td>Chrome</td>\n",
       "      <td>F</td>\n",
       "      <td>53</td>\n",
       "      <td>3.503114e+08</td>\n",
       "      <td>0</td>\n",
       "      <td>United States</td>\n",
       "      <td>17944.0</td>\n",
       "      <td>2015</td>\n",
       "      <td>6</td>\n",
       "    </tr>\n",
       "    <tr>\n",
       "      <th>2</th>\n",
       "      <td>2015-01-01 18:52:44</td>\n",
       "      <td>2015-01-01 18:52:45</td>\n",
       "      <td>15</td>\n",
       "      <td>YSSKYOSJHPPLJ</td>\n",
       "      <td>SEO</td>\n",
       "      <td>Opera</td>\n",
       "      <td>M</td>\n",
       "      <td>53</td>\n",
       "      <td>2.621474e+09</td>\n",
       "      <td>1</td>\n",
       "      <td>United States</td>\n",
       "      <td>1.0</td>\n",
       "      <td>2015</td>\n",
       "      <td>1</td>\n",
       "    </tr>\n",
       "    <tr>\n",
       "      <th>3</th>\n",
       "      <td>2015-04-28 21:13:25</td>\n",
       "      <td>2015-05-04 13:54:50</td>\n",
       "      <td>44</td>\n",
       "      <td>ATGTXKYKUDUQN</td>\n",
       "      <td>SEO</td>\n",
       "      <td>Safari</td>\n",
       "      <td>M</td>\n",
       "      <td>41</td>\n",
       "      <td>3.840542e+09</td>\n",
       "      <td>0</td>\n",
       "      <td>Unknown country</td>\n",
       "      <td>492085.0</td>\n",
       "      <td>2015</td>\n",
       "      <td>5</td>\n",
       "    </tr>\n",
       "    <tr>\n",
       "      <th>4</th>\n",
       "      <td>2015-07-21 07:09:52</td>\n",
       "      <td>2015-09-09 18:40:53</td>\n",
       "      <td>39</td>\n",
       "      <td>NAUITBZFJKHWW</td>\n",
       "      <td>Ads</td>\n",
       "      <td>Safari</td>\n",
       "      <td>M</td>\n",
       "      <td>45</td>\n",
       "      <td>4.155831e+08</td>\n",
       "      <td>0</td>\n",
       "      <td>United States</td>\n",
       "      <td>4361461.0</td>\n",
       "      <td>2015</td>\n",
       "      <td>9</td>\n",
       "    </tr>\n",
       "    <tr>\n",
       "      <th>5</th>\n",
       "      <td>2015-05-21 06:03:03</td>\n",
       "      <td>2015-07-09 08:05:14</td>\n",
       "      <td>42</td>\n",
       "      <td>ALEYXFXINSXLZ</td>\n",
       "      <td>Ads</td>\n",
       "      <td>Chrome</td>\n",
       "      <td>M</td>\n",
       "      <td>18</td>\n",
       "      <td>2.809315e+09</td>\n",
       "      <td>0</td>\n",
       "      <td>Canada</td>\n",
       "      <td>4240931.0</td>\n",
       "      <td>2015</td>\n",
       "      <td>7</td>\n",
       "    </tr>\n",
       "  </tbody>\n",
       "</table>\n",
       "</div>"
      ],
      "text/plain": [
       "          signup_time       purchase_time  purchase_value      device_id  \\\n",
       "0 2015-02-24 22:55:49 2015-04-18 02:47:11              34  QVPSPJUOCKZAR   \n",
       "1 2015-06-07 20:39:50 2015-06-08 01:38:54              16  EOGFQPIZPYXFZ   \n",
       "2 2015-01-01 18:52:44 2015-01-01 18:52:45              15  YSSKYOSJHPPLJ   \n",
       "3 2015-04-28 21:13:25 2015-05-04 13:54:50              44  ATGTXKYKUDUQN   \n",
       "4 2015-07-21 07:09:52 2015-09-09 18:40:53              39  NAUITBZFJKHWW   \n",
       "5 2015-05-21 06:03:03 2015-07-09 08:05:14              42  ALEYXFXINSXLZ   \n",
       "\n",
       "  source browser sex  age    ip_address  class     country_name  time_delta  \\\n",
       "0    SEO  Chrome   M   39  7.327584e+08      0            Japan   4506682.0   \n",
       "1    Ads  Chrome   F   53  3.503114e+08      0    United States     17944.0   \n",
       "2    SEO   Opera   M   53  2.621474e+09      1    United States         1.0   \n",
       "3    SEO  Safari   M   41  3.840542e+09      0  Unknown country    492085.0   \n",
       "4    Ads  Safari   M   45  4.155831e+08      0    United States   4361461.0   \n",
       "5    Ads  Chrome   M   18  2.809315e+09      0           Canada   4240931.0   \n",
       "\n",
       "   year  month  \n",
       "0  2015      4  \n",
       "1  2015      6  \n",
       "2  2015      1  \n",
       "3  2015      5  \n",
       "4  2015      9  \n",
       "5  2015      7  "
      ]
     },
     "execution_count": 16,
     "metadata": {},
     "output_type": "execute_result"
    }
   ],
   "source": [
    "df1=df1.drop(columns=['user_id'])\n",
    "df1.head(6)"
   ]
  },
  {
   "cell_type": "code",
   "execution_count": 17,
   "metadata": {},
   "outputs": [
    {
     "name": "stderr",
     "output_type": "stream",
     "text": [
      "<ipython-input-17-f89e5509e305>:1: FutureWarning: Treating datetime data as categorical rather than numeric in `.describe` is deprecated and will be removed in a future version of pandas. Specify `datetime_is_numeric=True` to silence this warning and adopt the future behavior now.\n",
      "  df1.describe(include='all')\n",
      "<ipython-input-17-f89e5509e305>:1: FutureWarning: Treating datetime data as categorical rather than numeric in `.describe` is deprecated and will be removed in a future version of pandas. Specify `datetime_is_numeric=True` to silence this warning and adopt the future behavior now.\n",
      "  df1.describe(include='all')\n"
     ]
    },
    {
     "data": {
      "text/html": [
       "<div>\n",
       "<style scoped>\n",
       "    .dataframe tbody tr th:only-of-type {\n",
       "        vertical-align: middle;\n",
       "    }\n",
       "\n",
       "    .dataframe tbody tr th {\n",
       "        vertical-align: top;\n",
       "    }\n",
       "\n",
       "    .dataframe thead th {\n",
       "        text-align: right;\n",
       "    }\n",
       "</style>\n",
       "<table border=\"1\" class=\"dataframe\">\n",
       "  <thead>\n",
       "    <tr style=\"text-align: right;\">\n",
       "      <th></th>\n",
       "      <th>signup_time</th>\n",
       "      <th>purchase_time</th>\n",
       "      <th>purchase_value</th>\n",
       "      <th>device_id</th>\n",
       "      <th>source</th>\n",
       "      <th>browser</th>\n",
       "      <th>sex</th>\n",
       "      <th>age</th>\n",
       "      <th>ip_address</th>\n",
       "      <th>class</th>\n",
       "      <th>country_name</th>\n",
       "      <th>time_delta</th>\n",
       "      <th>year</th>\n",
       "      <th>month</th>\n",
       "    </tr>\n",
       "  </thead>\n",
       "  <tbody>\n",
       "    <tr>\n",
       "      <th>count</th>\n",
       "      <td>151112</td>\n",
       "      <td>151112</td>\n",
       "      <td>151112.000000</td>\n",
       "      <td>151112</td>\n",
       "      <td>151112</td>\n",
       "      <td>151112</td>\n",
       "      <td>151112</td>\n",
       "      <td>151112.000000</td>\n",
       "      <td>1.511120e+05</td>\n",
       "      <td>151112.000000</td>\n",
       "      <td>151112</td>\n",
       "      <td>1.511120e+05</td>\n",
       "      <td>151112.0</td>\n",
       "      <td>151112.000000</td>\n",
       "    </tr>\n",
       "    <tr>\n",
       "      <th>unique</th>\n",
       "      <td>151112</td>\n",
       "      <td>150679</td>\n",
       "      <td>NaN</td>\n",
       "      <td>137956</td>\n",
       "      <td>3</td>\n",
       "      <td>5</td>\n",
       "      <td>2</td>\n",
       "      <td>NaN</td>\n",
       "      <td>NaN</td>\n",
       "      <td>NaN</td>\n",
       "      <td>182</td>\n",
       "      <td>NaN</td>\n",
       "      <td>NaN</td>\n",
       "      <td>NaN</td>\n",
       "    </tr>\n",
       "    <tr>\n",
       "      <th>top</th>\n",
       "      <td>2015-06-30 03:58:38</td>\n",
       "      <td>2015-07-17 23:22:55</td>\n",
       "      <td>NaN</td>\n",
       "      <td>ZUSVMDEZRBDTX</td>\n",
       "      <td>SEO</td>\n",
       "      <td>Chrome</td>\n",
       "      <td>M</td>\n",
       "      <td>NaN</td>\n",
       "      <td>NaN</td>\n",
       "      <td>NaN</td>\n",
       "      <td>United States</td>\n",
       "      <td>NaN</td>\n",
       "      <td>NaN</td>\n",
       "      <td>NaN</td>\n",
       "    </tr>\n",
       "    <tr>\n",
       "      <th>freq</th>\n",
       "      <td>1</td>\n",
       "      <td>3</td>\n",
       "      <td>NaN</td>\n",
       "      <td>20</td>\n",
       "      <td>60615</td>\n",
       "      <td>61432</td>\n",
       "      <td>88293</td>\n",
       "      <td>NaN</td>\n",
       "      <td>NaN</td>\n",
       "      <td>NaN</td>\n",
       "      <td>58049</td>\n",
       "      <td>NaN</td>\n",
       "      <td>NaN</td>\n",
       "      <td>NaN</td>\n",
       "    </tr>\n",
       "    <tr>\n",
       "      <th>first</th>\n",
       "      <td>2015-01-01 00:00:42</td>\n",
       "      <td>2015-01-01 00:00:44</td>\n",
       "      <td>NaN</td>\n",
       "      <td>NaN</td>\n",
       "      <td>NaN</td>\n",
       "      <td>NaN</td>\n",
       "      <td>NaN</td>\n",
       "      <td>NaN</td>\n",
       "      <td>NaN</td>\n",
       "      <td>NaN</td>\n",
       "      <td>NaN</td>\n",
       "      <td>NaN</td>\n",
       "      <td>NaN</td>\n",
       "      <td>NaN</td>\n",
       "    </tr>\n",
       "    <tr>\n",
       "      <th>last</th>\n",
       "      <td>2015-08-18 04:40:29</td>\n",
       "      <td>2015-12-16 02:56:05</td>\n",
       "      <td>NaN</td>\n",
       "      <td>NaN</td>\n",
       "      <td>NaN</td>\n",
       "      <td>NaN</td>\n",
       "      <td>NaN</td>\n",
       "      <td>NaN</td>\n",
       "      <td>NaN</td>\n",
       "      <td>NaN</td>\n",
       "      <td>NaN</td>\n",
       "      <td>NaN</td>\n",
       "      <td>NaN</td>\n",
       "      <td>NaN</td>\n",
       "    </tr>\n",
       "    <tr>\n",
       "      <th>mean</th>\n",
       "      <td>NaN</td>\n",
       "      <td>NaN</td>\n",
       "      <td>36.935372</td>\n",
       "      <td>NaN</td>\n",
       "      <td>NaN</td>\n",
       "      <td>NaN</td>\n",
       "      <td>NaN</td>\n",
       "      <td>33.140704</td>\n",
       "      <td>2.152145e+09</td>\n",
       "      <td>0.093646</td>\n",
       "      <td>NaN</td>\n",
       "      <td>4.932029e+06</td>\n",
       "      <td>2015.0</td>\n",
       "      <td>6.008629</td>\n",
       "    </tr>\n",
       "    <tr>\n",
       "      <th>std</th>\n",
       "      <td>NaN</td>\n",
       "      <td>NaN</td>\n",
       "      <td>18.322762</td>\n",
       "      <td>NaN</td>\n",
       "      <td>NaN</td>\n",
       "      <td>NaN</td>\n",
       "      <td>NaN</td>\n",
       "      <td>8.617733</td>\n",
       "      <td>1.248497e+09</td>\n",
       "      <td>0.291336</td>\n",
       "      <td>NaN</td>\n",
       "      <td>3.126263e+06</td>\n",
       "      <td>0.0</td>\n",
       "      <td>2.660637</td>\n",
       "    </tr>\n",
       "    <tr>\n",
       "      <th>min</th>\n",
       "      <td>NaN</td>\n",
       "      <td>NaN</td>\n",
       "      <td>9.000000</td>\n",
       "      <td>NaN</td>\n",
       "      <td>NaN</td>\n",
       "      <td>NaN</td>\n",
       "      <td>NaN</td>\n",
       "      <td>18.000000</td>\n",
       "      <td>5.209350e+04</td>\n",
       "      <td>0.000000</td>\n",
       "      <td>NaN</td>\n",
       "      <td>1.000000e+00</td>\n",
       "      <td>2015.0</td>\n",
       "      <td>1.000000</td>\n",
       "    </tr>\n",
       "    <tr>\n",
       "      <th>25%</th>\n",
       "      <td>NaN</td>\n",
       "      <td>NaN</td>\n",
       "      <td>22.000000</td>\n",
       "      <td>NaN</td>\n",
       "      <td>NaN</td>\n",
       "      <td>NaN</td>\n",
       "      <td>NaN</td>\n",
       "      <td>27.000000</td>\n",
       "      <td>1.085934e+09</td>\n",
       "      <td>0.000000</td>\n",
       "      <td>NaN</td>\n",
       "      <td>2.186754e+06</td>\n",
       "      <td>2015.0</td>\n",
       "      <td>4.000000</td>\n",
       "    </tr>\n",
       "    <tr>\n",
       "      <th>50%</th>\n",
       "      <td>NaN</td>\n",
       "      <td>NaN</td>\n",
       "      <td>35.000000</td>\n",
       "      <td>NaN</td>\n",
       "      <td>NaN</td>\n",
       "      <td>NaN</td>\n",
       "      <td>NaN</td>\n",
       "      <td>33.000000</td>\n",
       "      <td>2.154770e+09</td>\n",
       "      <td>0.000000</td>\n",
       "      <td>NaN</td>\n",
       "      <td>4.926346e+06</td>\n",
       "      <td>2015.0</td>\n",
       "      <td>6.000000</td>\n",
       "    </tr>\n",
       "    <tr>\n",
       "      <th>75%</th>\n",
       "      <td>NaN</td>\n",
       "      <td>NaN</td>\n",
       "      <td>49.000000</td>\n",
       "      <td>NaN</td>\n",
       "      <td>NaN</td>\n",
       "      <td>NaN</td>\n",
       "      <td>NaN</td>\n",
       "      <td>39.000000</td>\n",
       "      <td>3.243258e+09</td>\n",
       "      <td>0.000000</td>\n",
       "      <td>NaN</td>\n",
       "      <td>7.644524e+06</td>\n",
       "      <td>2015.0</td>\n",
       "      <td>8.000000</td>\n",
       "    </tr>\n",
       "    <tr>\n",
       "      <th>max</th>\n",
       "      <td>NaN</td>\n",
       "      <td>NaN</td>\n",
       "      <td>154.000000</td>\n",
       "      <td>NaN</td>\n",
       "      <td>NaN</td>\n",
       "      <td>NaN</td>\n",
       "      <td>NaN</td>\n",
       "      <td>76.000000</td>\n",
       "      <td>4.294850e+09</td>\n",
       "      <td>1.000000</td>\n",
       "      <td>NaN</td>\n",
       "      <td>1.036797e+07</td>\n",
       "      <td>2015.0</td>\n",
       "      <td>12.000000</td>\n",
       "    </tr>\n",
       "  </tbody>\n",
       "</table>\n",
       "</div>"
      ],
      "text/plain": [
       "                signup_time        purchase_time  purchase_value  \\\n",
       "count                151112               151112   151112.000000   \n",
       "unique               151112               150679             NaN   \n",
       "top     2015-06-30 03:58:38  2015-07-17 23:22:55             NaN   \n",
       "freq                      1                    3             NaN   \n",
       "first   2015-01-01 00:00:42  2015-01-01 00:00:44             NaN   \n",
       "last    2015-08-18 04:40:29  2015-12-16 02:56:05             NaN   \n",
       "mean                    NaN                  NaN       36.935372   \n",
       "std                     NaN                  NaN       18.322762   \n",
       "min                     NaN                  NaN        9.000000   \n",
       "25%                     NaN                  NaN       22.000000   \n",
       "50%                     NaN                  NaN       35.000000   \n",
       "75%                     NaN                  NaN       49.000000   \n",
       "max                     NaN                  NaN      154.000000   \n",
       "\n",
       "            device_id  source browser     sex            age    ip_address  \\\n",
       "count          151112  151112  151112  151112  151112.000000  1.511120e+05   \n",
       "unique         137956       3       5       2            NaN           NaN   \n",
       "top     ZUSVMDEZRBDTX     SEO  Chrome       M            NaN           NaN   \n",
       "freq               20   60615   61432   88293            NaN           NaN   \n",
       "first             NaN     NaN     NaN     NaN            NaN           NaN   \n",
       "last              NaN     NaN     NaN     NaN            NaN           NaN   \n",
       "mean              NaN     NaN     NaN     NaN      33.140704  2.152145e+09   \n",
       "std               NaN     NaN     NaN     NaN       8.617733  1.248497e+09   \n",
       "min               NaN     NaN     NaN     NaN      18.000000  5.209350e+04   \n",
       "25%               NaN     NaN     NaN     NaN      27.000000  1.085934e+09   \n",
       "50%               NaN     NaN     NaN     NaN      33.000000  2.154770e+09   \n",
       "75%               NaN     NaN     NaN     NaN      39.000000  3.243258e+09   \n",
       "max               NaN     NaN     NaN     NaN      76.000000  4.294850e+09   \n",
       "\n",
       "                class   country_name    time_delta      year          month  \n",
       "count   151112.000000         151112  1.511120e+05  151112.0  151112.000000  \n",
       "unique            NaN            182           NaN       NaN            NaN  \n",
       "top               NaN  United States           NaN       NaN            NaN  \n",
       "freq              NaN          58049           NaN       NaN            NaN  \n",
       "first             NaN            NaN           NaN       NaN            NaN  \n",
       "last              NaN            NaN           NaN       NaN            NaN  \n",
       "mean         0.093646            NaN  4.932029e+06    2015.0       6.008629  \n",
       "std          0.291336            NaN  3.126263e+06       0.0       2.660637  \n",
       "min          0.000000            NaN  1.000000e+00    2015.0       1.000000  \n",
       "25%          0.000000            NaN  2.186754e+06    2015.0       4.000000  \n",
       "50%          0.000000            NaN  4.926346e+06    2015.0       6.000000  \n",
       "75%          0.000000            NaN  7.644524e+06    2015.0       8.000000  \n",
       "max          1.000000            NaN  1.036797e+07    2015.0      12.000000  "
      ]
     },
     "execution_count": 17,
     "metadata": {},
     "output_type": "execute_result"
    }
   ],
   "source": [
    "df1.describe(include='all')"
   ]
  },
  {
   "cell_type": "code",
   "execution_count": 18,
   "metadata": {},
   "outputs": [
    {
     "data": {
      "text/plain": [
       "(151112, 14)"
      ]
     },
     "execution_count": 18,
     "metadata": {},
     "output_type": "execute_result"
    }
   ],
   "source": [
    "df1.shape"
   ]
  },
  {
   "cell_type": "code",
   "execution_count": 19,
   "metadata": {},
   "outputs": [
    {
     "data": {
      "text/plain": [
       "signup_time       151112\n",
       "purchase_time     151112\n",
       "purchase_value    151112\n",
       "device_id         151112\n",
       "source            151112\n",
       "browser           151112\n",
       "sex               151112\n",
       "age               151112\n",
       "ip_address        151112\n",
       "class             151112\n",
       "country_name      151112\n",
       "time_delta        151112\n",
       "year              151112\n",
       "month             151112\n",
       "dtype: int64"
      ]
     },
     "execution_count": 19,
     "metadata": {},
     "output_type": "execute_result"
    }
   ],
   "source": [
    "df1.isnull().count()"
   ]
  },
  {
   "cell_type": "code",
   "execution_count": 20,
   "metadata": {},
   "outputs": [
    {
     "data": {
      "text/html": [
       "<div>\n",
       "<style scoped>\n",
       "    .dataframe tbody tr th:only-of-type {\n",
       "        vertical-align: middle;\n",
       "    }\n",
       "\n",
       "    .dataframe tbody tr th {\n",
       "        vertical-align: top;\n",
       "    }\n",
       "\n",
       "    .dataframe thead th {\n",
       "        text-align: right;\n",
       "    }\n",
       "</style>\n",
       "<table border=\"1\" class=\"dataframe\">\n",
       "  <thead>\n",
       "    <tr style=\"text-align: right;\">\n",
       "      <th></th>\n",
       "      <th>signup_time</th>\n",
       "      <th>purchase_time</th>\n",
       "      <th>purchase_value</th>\n",
       "      <th>device_id</th>\n",
       "      <th>source</th>\n",
       "      <th>browser</th>\n",
       "      <th>sex</th>\n",
       "      <th>age</th>\n",
       "      <th>ip_address</th>\n",
       "      <th>f_not_f</th>\n",
       "      <th>country_name</th>\n",
       "      <th>time_delta</th>\n",
       "      <th>year</th>\n",
       "      <th>month</th>\n",
       "    </tr>\n",
       "  </thead>\n",
       "  <tbody>\n",
       "    <tr>\n",
       "      <th>0</th>\n",
       "      <td>2015-02-24 22:55:49</td>\n",
       "      <td>2015-04-18 02:47:11</td>\n",
       "      <td>34</td>\n",
       "      <td>QVPSPJUOCKZAR</td>\n",
       "      <td>SEO</td>\n",
       "      <td>Chrome</td>\n",
       "      <td>M</td>\n",
       "      <td>39</td>\n",
       "      <td>7.327584e+08</td>\n",
       "      <td>0</td>\n",
       "      <td>Japan</td>\n",
       "      <td>4506682.0</td>\n",
       "      <td>2015</td>\n",
       "      <td>4</td>\n",
       "    </tr>\n",
       "    <tr>\n",
       "      <th>1</th>\n",
       "      <td>2015-06-07 20:39:50</td>\n",
       "      <td>2015-06-08 01:38:54</td>\n",
       "      <td>16</td>\n",
       "      <td>EOGFQPIZPYXFZ</td>\n",
       "      <td>Ads</td>\n",
       "      <td>Chrome</td>\n",
       "      <td>F</td>\n",
       "      <td>53</td>\n",
       "      <td>3.503114e+08</td>\n",
       "      <td>0</td>\n",
       "      <td>United States</td>\n",
       "      <td>17944.0</td>\n",
       "      <td>2015</td>\n",
       "      <td>6</td>\n",
       "    </tr>\n",
       "    <tr>\n",
       "      <th>2</th>\n",
       "      <td>2015-01-01 18:52:44</td>\n",
       "      <td>2015-01-01 18:52:45</td>\n",
       "      <td>15</td>\n",
       "      <td>YSSKYOSJHPPLJ</td>\n",
       "      <td>SEO</td>\n",
       "      <td>Opera</td>\n",
       "      <td>M</td>\n",
       "      <td>53</td>\n",
       "      <td>2.621474e+09</td>\n",
       "      <td>1</td>\n",
       "      <td>United States</td>\n",
       "      <td>1.0</td>\n",
       "      <td>2015</td>\n",
       "      <td>1</td>\n",
       "    </tr>\n",
       "    <tr>\n",
       "      <th>3</th>\n",
       "      <td>2015-04-28 21:13:25</td>\n",
       "      <td>2015-05-04 13:54:50</td>\n",
       "      <td>44</td>\n",
       "      <td>ATGTXKYKUDUQN</td>\n",
       "      <td>SEO</td>\n",
       "      <td>Safari</td>\n",
       "      <td>M</td>\n",
       "      <td>41</td>\n",
       "      <td>3.840542e+09</td>\n",
       "      <td>0</td>\n",
       "      <td>Unknown country</td>\n",
       "      <td>492085.0</td>\n",
       "      <td>2015</td>\n",
       "      <td>5</td>\n",
       "    </tr>\n",
       "    <tr>\n",
       "      <th>4</th>\n",
       "      <td>2015-07-21 07:09:52</td>\n",
       "      <td>2015-09-09 18:40:53</td>\n",
       "      <td>39</td>\n",
       "      <td>NAUITBZFJKHWW</td>\n",
       "      <td>Ads</td>\n",
       "      <td>Safari</td>\n",
       "      <td>M</td>\n",
       "      <td>45</td>\n",
       "      <td>4.155831e+08</td>\n",
       "      <td>0</td>\n",
       "      <td>United States</td>\n",
       "      <td>4361461.0</td>\n",
       "      <td>2015</td>\n",
       "      <td>9</td>\n",
       "    </tr>\n",
       "  </tbody>\n",
       "</table>\n",
       "</div>"
      ],
      "text/plain": [
       "          signup_time       purchase_time  purchase_value      device_id  \\\n",
       "0 2015-02-24 22:55:49 2015-04-18 02:47:11              34  QVPSPJUOCKZAR   \n",
       "1 2015-06-07 20:39:50 2015-06-08 01:38:54              16  EOGFQPIZPYXFZ   \n",
       "2 2015-01-01 18:52:44 2015-01-01 18:52:45              15  YSSKYOSJHPPLJ   \n",
       "3 2015-04-28 21:13:25 2015-05-04 13:54:50              44  ATGTXKYKUDUQN   \n",
       "4 2015-07-21 07:09:52 2015-09-09 18:40:53              39  NAUITBZFJKHWW   \n",
       "\n",
       "  source browser sex  age    ip_address  f_not_f     country_name  time_delta  \\\n",
       "0    SEO  Chrome   M   39  7.327584e+08        0            Japan   4506682.0   \n",
       "1    Ads  Chrome   F   53  3.503114e+08        0    United States     17944.0   \n",
       "2    SEO   Opera   M   53  2.621474e+09        1    United States         1.0   \n",
       "3    SEO  Safari   M   41  3.840542e+09        0  Unknown country    492085.0   \n",
       "4    Ads  Safari   M   45  4.155831e+08        0    United States   4361461.0   \n",
       "\n",
       "   year  month  \n",
       "0  2015      4  \n",
       "1  2015      6  \n",
       "2  2015      1  \n",
       "3  2015      5  \n",
       "4  2015      9  "
      ]
     },
     "execution_count": 20,
     "metadata": {},
     "output_type": "execute_result"
    }
   ],
   "source": [
    "df1 = df1.rename(columns={\"class\": \"f_not_f\"})\n",
    "df1.head(5)"
   ]
  },
  {
   "cell_type": "markdown",
   "metadata": {},
   "source": [
    "## Exploratory visualization"
   ]
  },
  {
   "cell_type": "code",
   "execution_count": 21,
   "metadata": {},
   "outputs": [
    {
     "data": {
      "image/png": "[encoded data removed]",
      "text/plain": [
       "<Figure size 864x864 with 1 Axes>"
      ]
     },
     "metadata": {
      "needs_background": "light"
     },
     "output_type": "display_data"
    }
   ],
   "source": [
    "viz_1=sns.catplot(x=\"age\", y=\"f_not_f\", data = df1, kind=\"bar\",alpha=.6, height=12)\n"
   ]
  },
  {
   "cell_type": "code",
   "execution_count": 22,
   "metadata": {},
   "outputs": [
    {
     "data": {
      "image/png": "[encoded data removed]",
      "text/plain": [
       "<Figure size 288x288 with 1 Axes>"
      ]
     },
     "metadata": {
      "needs_background": "light"
     },
     "output_type": "display_data"
    }
   ],
   "source": [
    "viz_1=sns.catplot(x=\"sex\", y=\"f_not_f\", data = df1, kind=\"bar\",alpha=.4, height=4)"
   ]
  },
  {
   "cell_type": "markdown",
   "metadata": {},
   "source": [
    "## Choice of dataset variables"
   ]
  },
  {
   "cell_type": "code",
   "execution_count": 23,
   "metadata": {},
   "outputs": [
    {
     "data": {
      "text/html": [
       "<div>\n",
       "<style scoped>\n",
       "    .dataframe tbody tr th:only-of-type {\n",
       "        vertical-align: middle;\n",
       "    }\n",
       "\n",
       "    .dataframe tbody tr th {\n",
       "        vertical-align: top;\n",
       "    }\n",
       "\n",
       "    .dataframe thead th {\n",
       "        text-align: right;\n",
       "    }\n",
       "</style>\n",
       "<table border=\"1\" class=\"dataframe\">\n",
       "  <thead>\n",
       "    <tr style=\"text-align: right;\">\n",
       "      <th></th>\n",
       "      <th>purchase_value</th>\n",
       "      <th>source</th>\n",
       "      <th>browser</th>\n",
       "      <th>sex</th>\n",
       "      <th>age</th>\n",
       "      <th>f_not_f</th>\n",
       "      <th>country_name</th>\n",
       "      <th>time_delta</th>\n",
       "      <th>month</th>\n",
       "    </tr>\n",
       "  </thead>\n",
       "  <tbody>\n",
       "    <tr>\n",
       "      <th>0</th>\n",
       "      <td>34</td>\n",
       "      <td>SEO</td>\n",
       "      <td>Chrome</td>\n",
       "      <td>M</td>\n",
       "      <td>39</td>\n",
       "      <td>0</td>\n",
       "      <td>Japan</td>\n",
       "      <td>4506682.0</td>\n",
       "      <td>4</td>\n",
       "    </tr>\n",
       "    <tr>\n",
       "      <th>1</th>\n",
       "      <td>16</td>\n",
       "      <td>Ads</td>\n",
       "      <td>Chrome</td>\n",
       "      <td>F</td>\n",
       "      <td>53</td>\n",
       "      <td>0</td>\n",
       "      <td>United States</td>\n",
       "      <td>17944.0</td>\n",
       "      <td>6</td>\n",
       "    </tr>\n",
       "    <tr>\n",
       "      <th>2</th>\n",
       "      <td>15</td>\n",
       "      <td>SEO</td>\n",
       "      <td>Opera</td>\n",
       "      <td>M</td>\n",
       "      <td>53</td>\n",
       "      <td>1</td>\n",
       "      <td>United States</td>\n",
       "      <td>1.0</td>\n",
       "      <td>1</td>\n",
       "    </tr>\n",
       "    <tr>\n",
       "      <th>3</th>\n",
       "      <td>44</td>\n",
       "      <td>SEO</td>\n",
       "      <td>Safari</td>\n",
       "      <td>M</td>\n",
       "      <td>41</td>\n",
       "      <td>0</td>\n",
       "      <td>Unknown country</td>\n",
       "      <td>492085.0</td>\n",
       "      <td>5</td>\n",
       "    </tr>\n",
       "    <tr>\n",
       "      <th>4</th>\n",
       "      <td>39</td>\n",
       "      <td>Ads</td>\n",
       "      <td>Safari</td>\n",
       "      <td>M</td>\n",
       "      <td>45</td>\n",
       "      <td>0</td>\n",
       "      <td>United States</td>\n",
       "      <td>4361461.0</td>\n",
       "      <td>9</td>\n",
       "    </tr>\n",
       "  </tbody>\n",
       "</table>\n",
       "</div>"
      ],
      "text/plain": [
       "   purchase_value source browser sex  age  f_not_f     country_name  \\\n",
       "0              34    SEO  Chrome   M   39        0            Japan   \n",
       "1              16    Ads  Chrome   F   53        0    United States   \n",
       "2              15    SEO   Opera   M   53        1    United States   \n",
       "3              44    SEO  Safari   M   41        0  Unknown country   \n",
       "4              39    Ads  Safari   M   45        0    United States   \n",
       "\n",
       "   time_delta  month  \n",
       "0   4506682.0      4  \n",
       "1     17944.0      6  \n",
       "2         1.0      1  \n",
       "3    492085.0      5  \n",
       "4   4361461.0      9  "
      ]
     },
     "execution_count": 23,
     "metadata": {},
     "output_type": "execute_result"
    }
   ],
   "source": [
    "# Drop columns with too many unique values\n",
    "df1 = df1.drop(['signup_time', 'purchase_time', 'device_id','ip_address','year'], axis=1)\n",
    "df1.head(5)"
   ]
  },
  {
   "cell_type": "code",
   "execution_count": 24,
   "metadata": {},
   "outputs": [
    {
     "data": {
      "text/plain": [
       "United States      58049\n",
       "Unknown country    21966\n",
       "China              12038\n",
       "Japan               7306\n",
       "United Kingdom      4490\n",
       "                   ...  \n",
       "San Marino             1\n",
       "Tajikistan             1\n",
       "Madagascar             1\n",
       "Dominica               1\n",
       "Turkmenistan           1\n",
       "Name: country_name, Length: 182, dtype: int64"
      ]
     },
     "execution_count": 24,
     "metadata": {},
     "output_type": "execute_result"
    }
   ],
   "source": [
    "c_counts=df1['country_name'].value_counts()\n",
    "c_counts"
   ]
  },
  {
   "cell_type": "code",
   "execution_count": 25,
   "metadata": {},
   "outputs": [],
   "source": [
    "c_counts = df1['country_name'].value_counts()"
   ]
  },
  {
   "cell_type": "code",
   "execution_count": 26,
   "metadata": {},
   "outputs": [
    {
     "data": {
      "text/plain": [
       "array(['United States', 'Unknown country', 'China', 'Japan',\n",
       "       'United Kingdom', 'Korea Republic of', 'Germany', 'France',\n",
       "       'Canada', 'Brazil', 'Italy', 'Australia', 'Netherlands',\n",
       "       'Russian Federation', 'India', 'Taiwan; Republic of China (ROC)',\n",
       "       'Mexico', 'Sweden', 'Spain', 'South Africa', 'Switzerland',\n",
       "       'Poland', 'Argentina', 'Indonesia', 'Norway', 'Colombia', 'Turkey',\n",
       "       'Viet Nam', 'Romania', 'Denmark', 'Hong Kong', 'Finland',\n",
       "       'Austria', 'Ukraine', 'Chile', 'Belgium',\n",
       "       'Iran (ISLAMIC Republic Of)', 'Egypt', 'Czech Republic',\n",
       "       'Thailand', 'New Zealand', 'Israel', 'Saudi Arabia', 'Venezuela',\n",
       "       'Ireland', 'European Union', 'Greece', 'Portugal', 'Hungary',\n",
       "       'Malaysia', 'Singapore', 'Pakistan', 'Philippines', 'Bulgaria',\n",
       "       'Morocco', 'Algeria', 'Peru', 'Tunisia', 'United Arab Emirates',\n",
       "       'Ecuador', 'Lithuania', 'Seychelles', 'Kenya', 'Kazakhstan',\n",
       "       'Costa Rica', 'Kuwait', 'Slovenia', 'Slovakia (SLOVAK Republic)',\n",
       "       'Uruguay', 'Croatia (LOCAL Name: Hrvatska)', 'Luxembourg',\n",
       "       'Belarus', 'Serbia', 'Nigeria', 'Latvia', 'Panama', 'Bolivia',\n",
       "       'Dominican Republic'], dtype=object)"
      ]
     },
     "execution_count": 26,
     "metadata": {},
     "output_type": "execute_result"
    }
   ],
   "source": [
    "# Select countries according to the number of values present\n",
    "to_keep_country=c_counts[c_counts > 50].index.values\n",
    "to_keep_country"
   ]
  },
  {
   "cell_type": "code",
   "execution_count": 27,
   "metadata": {},
   "outputs": [],
   "source": [
    "df1 = df1.loc[df1['country_name'].isin(to_keep_country), :]"
   ]
  },
  {
   "cell_type": "code",
   "execution_count": 29,
   "metadata": {},
   "outputs": [
    {
     "name": "stdout",
     "output_type": "stream",
     "text": [
      "Separating labels from features...\n",
      "...Done.\n",
      "0    0\n",
      "1    0\n",
      "2    1\n",
      "3    0\n",
      "4    0\n",
      "Name: f_not_f, dtype: int64\n",
      "   purchase_value source browser sex  age     country_name  time_delta  month\n",
      "0              34    SEO  Chrome   M   39            Japan   4506682.0      4\n",
      "1              16    Ads  Chrome   F   53    United States     17944.0      6\n",
      "2              15    SEO   Opera   M   53    United States         1.0      1\n",
      "3              44    SEO  Safari   M   41  Unknown country    492085.0      5\n",
      "4              39    Ads  Safari   M   45    United States   4361461.0      9\n"
     ]
    }
   ],
   "source": [
    "target_name = 'f_not_f'\n",
    "print(\"Separating labels from features...\")\n",
    "Y = df1.loc[:,target_name]\n",
    "X = df1.loc[:,[c for c in df1.columns if c!=target_name]] \n",
    "print(\"...Done.\")\n",
    "print(Y.head())\n",
    "print(X.head())\n"
   ]
  },
  {
   "cell_type": "markdown",
   "metadata": {},
   "source": [
    "## Estimated class balance"
   ]
  },
  {
   "cell_type": "code",
   "execution_count": 30,
   "metadata": {},
   "outputs": [
    {
     "data": {
      "text/plain": [
       "0    135854\n",
       "1     14079\n",
       "Name: f_not_f, dtype: int64"
      ]
     },
     "execution_count": 30,
     "metadata": {},
     "output_type": "execute_result"
    }
   ],
   "source": [
    "not_fraud = df1['f_not_f'].value_counts()\n",
    "not_fraud"
   ]
  },
  {
   "cell_type": "code",
   "execution_count": 31,
   "metadata": {},
   "outputs": [
    {
     "data": {
      "image/png": "[encoded data removed]",
      "text/plain": [
       "<Figure size 432x288 with 1 Axes>"
      ]
     },
     "metadata": {},
     "output_type": "display_data"
    }
   ],
   "source": [
    "labels = 'Fraud', 'No Fraud'\n",
    "sizes = [9.3, 90.6]\n",
    "explode = (0, 0.1) # Here, only the Hogs will be highlighted.\n",
    "\n",
    "plt.pie(sizes, explode=explode,labels=labels, autopct='%1.1f%%',\n",
    "        shadow=True, startangle=90)\n",
    "plt.title(\"Total Fraud Rate\")\n",
    "plt.show()"
   ]
  },
  {
   "cell_type": "markdown",
   "metadata": {},
   "source": [
    "## Preprocessing"
   ]
  },
  {
   "cell_type": "code",
   "execution_count": 32,
   "metadata": {},
   "outputs": [],
   "source": [
    "X = X.values\n",
    "Y = Y.tolist()"
   ]
  },
  {
   "cell_type": "code",
   "execution_count": 33,
   "metadata": {},
   "outputs": [],
   "source": [
    "from sklearn.model_selection import train_test_split\n",
    "X_train, X_test, Y_train, Y_test = train_test_split(X, Y, test_size=0.2, random_state=0, stratify=Y)"
   ]
  },
  {
   "cell_type": "code",
   "execution_count": 34,
   "metadata": {},
   "outputs": [
    {
     "data": {
      "text/plain": [
       "Index(['purchase_value', 'source', 'browser', 'sex', 'age', 'f_not_f',\n",
       "       'country_name', 'time_delta', 'month'],\n",
       "      dtype='object')"
      ]
     },
     "execution_count": 34,
     "metadata": {},
     "output_type": "execute_result"
    }
   ],
   "source": [
    "df1.columns"
   ]
  },
  {
   "cell_type": "code",
   "execution_count": 35,
   "metadata": {},
   "outputs": [
    {
     "name": "stdout",
     "output_type": "stream",
     "text": [
      "[[34 'SEO' 'Chrome' 'M' 39 'Japan' 4506682.0 4]\n",
      " [16 'Ads' 'Chrome' 'F' 53 'United States' 17944.0 6]\n",
      " [15 'SEO' 'Opera' 'M' 53 'United States' 1.0 1]\n",
      " [44 'SEO' 'Safari' 'M' 41 'Unknown country' 492085.0 5]\n",
      " [39 'Ads' 'Safari' 'M' 45 'United States' 4361461.0 9]]\n",
      "[0, 0, 1, 0, 0]\n"
     ]
    }
   ],
   "source": [
    "print(X[0:5,:])\n",
    "print(Y[0:5])"
   ]
  },
  {
   "cell_type": "code",
   "execution_count": 36,
   "metadata": {},
   "outputs": [],
   "source": [
    "categorical_features = [1, 2, 3, 5]\n",
    "numeric_features = [0, 4, 6, 7]"
   ]
  },
  {
   "cell_type": "code",
   "execution_count": 37,
   "metadata": {},
   "outputs": [],
   "source": [
    "standard_scaler = StandardScaler()  # pour mettre à l'echelle les variables numériques (à partir de la moyenne et de l'écart-ty du train)\n",
    "one_hot_encoder = OneHotEncoder(drop='first', sparse=False)  # pour générer les dummies des colonnes catégorielles de X (à partir des catégories présentes dans le train)\n",
    "\n",
    "# ColumnTransformer va permettre d'appliquer l'ensemble des outils précédents aux colonnes adaptées\n",
    "preprocessor = ColumnTransformer(\n",
    "    transformers=[   \n",
    "        ('scaling', standard_scaler, numeric_features),\n",
    "        ('dummies', one_hot_encoder, categorical_features)\n",
    "        ]\n",
    "    )\n",
    "\n",
    "# la méthode fit_transform est un raccourcie pour les méthodes fit et transform\n",
    "X_train = preprocessor.fit_transform(X_train)\n",
    "\n",
    "# /!\\ on applique uniquement la méthode transform aux données de test (jamais la méthode fit)\n",
    "X_test = preprocessor.transform(X_test)"
   ]
  },
  {
   "cell_type": "code",
   "execution_count": 38,
   "metadata": {},
   "outputs": [
    {
     "data": {
      "text/html": [
       "<div>\n",
       "<style scoped>\n",
       "    .dataframe tbody tr th:only-of-type {\n",
       "        vertical-align: middle;\n",
       "    }\n",
       "\n",
       "    .dataframe tbody tr th {\n",
       "        vertical-align: top;\n",
       "    }\n",
       "\n",
       "    .dataframe thead th {\n",
       "        text-align: right;\n",
       "    }\n",
       "</style>\n",
       "<table border=\"1\" class=\"dataframe\">\n",
       "  <thead>\n",
       "    <tr style=\"text-align: right;\">\n",
       "      <th></th>\n",
       "      <th>purchase_value</th>\n",
       "      <th>age</th>\n",
       "      <th>f_not_f</th>\n",
       "      <th>time_delta</th>\n",
       "      <th>month</th>\n",
       "    </tr>\n",
       "  </thead>\n",
       "  <tbody>\n",
       "    <tr>\n",
       "      <th>0</th>\n",
       "      <td>34</td>\n",
       "      <td>39</td>\n",
       "      <td>0</td>\n",
       "      <td>4506682.0</td>\n",
       "      <td>4</td>\n",
       "    </tr>\n",
       "    <tr>\n",
       "      <th>1</th>\n",
       "      <td>16</td>\n",
       "      <td>53</td>\n",
       "      <td>0</td>\n",
       "      <td>17944.0</td>\n",
       "      <td>6</td>\n",
       "    </tr>\n",
       "    <tr>\n",
       "      <th>2</th>\n",
       "      <td>15</td>\n",
       "      <td>53</td>\n",
       "      <td>1</td>\n",
       "      <td>1.0</td>\n",
       "      <td>1</td>\n",
       "    </tr>\n",
       "    <tr>\n",
       "      <th>3</th>\n",
       "      <td>44</td>\n",
       "      <td>41</td>\n",
       "      <td>0</td>\n",
       "      <td>492085.0</td>\n",
       "      <td>5</td>\n",
       "    </tr>\n",
       "    <tr>\n",
       "      <th>4</th>\n",
       "      <td>39</td>\n",
       "      <td>45</td>\n",
       "      <td>0</td>\n",
       "      <td>4361461.0</td>\n",
       "      <td>9</td>\n",
       "    </tr>\n",
       "    <tr>\n",
       "      <th>...</th>\n",
       "      <td>...</td>\n",
       "      <td>...</td>\n",
       "      <td>...</td>\n",
       "      <td>...</td>\n",
       "      <td>...</td>\n",
       "    </tr>\n",
       "    <tr>\n",
       "      <th>151107</th>\n",
       "      <td>43</td>\n",
       "      <td>28</td>\n",
       "      <td>1</td>\n",
       "      <td>5261233.0</td>\n",
       "      <td>3</td>\n",
       "    </tr>\n",
       "    <tr>\n",
       "      <th>151108</th>\n",
       "      <td>35</td>\n",
       "      <td>32</td>\n",
       "      <td>0</td>\n",
       "      <td>931270.0</td>\n",
       "      <td>5</td>\n",
       "    </tr>\n",
       "    <tr>\n",
       "      <th>151109</th>\n",
       "      <td>40</td>\n",
       "      <td>26</td>\n",
       "      <td>0</td>\n",
       "      <td>6681616.0</td>\n",
       "      <td>5</td>\n",
       "    </tr>\n",
       "    <tr>\n",
       "      <th>151110</th>\n",
       "      <td>46</td>\n",
       "      <td>37</td>\n",
       "      <td>0</td>\n",
       "      <td>5146119.0</td>\n",
       "      <td>9</td>\n",
       "    </tr>\n",
       "    <tr>\n",
       "      <th>151111</th>\n",
       "      <td>20</td>\n",
       "      <td>38</td>\n",
       "      <td>0</td>\n",
       "      <td>3524493.0</td>\n",
       "      <td>7</td>\n",
       "    </tr>\n",
       "  </tbody>\n",
       "</table>\n",
       "<p>149933 rows × 5 columns</p>\n",
       "</div>"
      ],
      "text/plain": [
       "        purchase_value  age  f_not_f  time_delta  month\n",
       "0                   34   39        0   4506682.0      4\n",
       "1                   16   53        0     17944.0      6\n",
       "2                   15   53        1         1.0      1\n",
       "3                   44   41        0    492085.0      5\n",
       "4                   39   45        0   4361461.0      9\n",
       "...                ...  ...      ...         ...    ...\n",
       "151107              43   28        1   5261233.0      3\n",
       "151108              35   32        0    931270.0      5\n",
       "151109              40   26        0   6681616.0      5\n",
       "151110              46   37        0   5146119.0      9\n",
       "151111              20   38        0   3524493.0      7\n",
       "\n",
       "[149933 rows x 5 columns]"
      ]
     },
     "execution_count": 38,
     "metadata": {},
     "output_type": "execute_result"
    }
   ],
   "source": [
    "X = df1.select_dtypes('number')\n",
    "X"
   ]
  },
  {
   "cell_type": "markdown",
   "metadata": {},
   "source": [
    "### Logistic Regression"
   ]
  },
  {
   "cell_type": "code",
   "execution_count": 39,
   "metadata": {},
   "outputs": [
    {
     "name": "stdout",
     "output_type": "stream",
     "text": [
      "Training model...\n"
     ]
    },
    {
     "data": {
      "text/plain": [
       "LogisticRegression(class_weight='balanced', max_iter=800)"
      ]
     },
     "execution_count": 39,
     "metadata": {},
     "output_type": "execute_result"
    }
   ],
   "source": [
    "# Train baseline model\n",
    "model = LogisticRegression(class_weight = 'balanced', max_iter = 800) \n",
    "print(\"Training model...\")\n",
    "model.fit(X_train, Y_train) "
   ]
  },
  {
   "cell_type": "code",
   "execution_count": 40,
   "metadata": {},
   "outputs": [
    {
     "name": "stdout",
     "output_type": "stream",
     "text": [
      "[1 0 1 1 0]\n"
     ]
    }
   ],
   "source": [
    "# Predictions on training set\n",
    "Y_train_pred = model.predict(X_train)\n",
    "print(Y_train_pred[0:5])"
   ]
  },
  {
   "cell_type": "code",
   "execution_count": 41,
   "metadata": {},
   "outputs": [
    {
     "name": "stdout",
     "output_type": "stream",
     "text": [
      "[0 0 1 0 0]\n"
     ]
    }
   ],
   "source": [
    "# Predictions on test set\n",
    "Y_test_pred = model.predict(X_test)\n",
    "print(Y_test_pred[0:5])"
   ]
  },
  {
   "cell_type": "code",
   "execution_count": 42,
   "metadata": {},
   "outputs": [
    {
     "name": "stdout",
     "output_type": "stream",
     "text": [
      "f1-score on training set :  0.31089235331672055\n",
      "f1-score on test set :  0.3049557375692893\n"
     ]
    }
   ],
   "source": [
    "# Print scores\n",
    "from sklearn.metrics import accuracy_score\n",
    "from sklearn.metrics import f1_score\n",
    "print(\"f1-score on training set : \", f1_score(Y_train, Y_train_pred))\n",
    "print(\"f1-score on test set : \", f1_score(Y_test, Y_test_pred))"
   ]
  },
  {
   "cell_type": "code",
   "execution_count": 43,
   "metadata": {},
   "outputs": [
    {
     "data": {
      "text/plain": [
       "<AxesSubplot:>"
      ]
     },
     "execution_count": 43,
     "metadata": {},
     "output_type": "execute_result"
    },
    {
     "data": {
      "image/png": "[encoded data removed]",
      "text/plain": [
       "<Figure size 432x288 with 4 Axes>"
      ]
     },
     "metadata": {
      "needs_background": "light"
     },
     "output_type": "display_data"
    }
   ],
   "source": [
    "plt.subplot(221)\n",
    "cm = confusion_matrix(Y_train, Y_train_pred)\n",
    "sns.heatmap(cm, annot=True, fmt=\".0f\")\n",
    "plt.subplot(222)\n",
    "cm = confusion_matrix(Y_test, Y_test_pred)\n",
    "sns.heatmap(cm, annot=True, fmt=\".0f\")"
   ]
  },
  {
   "cell_type": "markdown",
   "metadata": {},
   "source": [
    "### Train Random Forest with grid search"
   ]
  },
  {
   "cell_type": "code",
   "execution_count": 44,
   "metadata": {},
   "outputs": [
    {
     "name": "stdout",
     "output_type": "stream",
     "text": [
      "Fitting 5 folds for each of 4 candidates, totalling 20 fits\n",
      "[CV] max_depth=2, n_estimators=100 ...................................\n"
     ]
    },
    {
     "name": "stderr",
     "output_type": "stream",
     "text": [
      "[Parallel(n_jobs=1)]: Using backend SequentialBackend with 1 concurrent workers.\n"
     ]
    },
    {
     "name": "stdout",
     "output_type": "stream",
     "text": [
      "[CV] .................... max_depth=2, n_estimators=100, total=   4.0s\n",
      "[CV] max_depth=2, n_estimators=100 ...................................\n"
     ]
    },
    {
     "name": "stderr",
     "output_type": "stream",
     "text": [
      "[Parallel(n_jobs=1)]: Done   1 out of   1 | elapsed:    4.0s remaining:    0.0s\n"
     ]
    },
    {
     "name": "stdout",
     "output_type": "stream",
     "text": [
      "[CV] .................... max_depth=2, n_estimators=100, total=   3.9s\n",
      "[CV] max_depth=2, n_estimators=100 ...................................\n",
      "[CV] .................... max_depth=2, n_estimators=100, total=   3.9s\n",
      "[CV] max_depth=2, n_estimators=100 ...................................\n",
      "[CV] .................... max_depth=2, n_estimators=100, total=   3.9s\n",
      "[CV] max_depth=2, n_estimators=100 ...................................\n",
      "[CV] .................... max_depth=2, n_estimators=100, total=   3.7s\n",
      "[CV] max_depth=2, n_estimators=200 ...................................\n",
      "[CV] .................... max_depth=2, n_estimators=200, total=   7.5s\n",
      "[CV] max_depth=2, n_estimators=200 ...................................\n",
      "[CV] .................... max_depth=2, n_estimators=200, total=   7.6s\n",
      "[CV] max_depth=2, n_estimators=200 ...................................\n",
      "[CV] .................... max_depth=2, n_estimators=200, total=   7.5s\n",
      "[CV] max_depth=2, n_estimators=200 ...................................\n",
      "[CV] .................... max_depth=2, n_estimators=200, total=   7.5s\n",
      "[CV] max_depth=2, n_estimators=200 ...................................\n",
      "[CV] .................... max_depth=2, n_estimators=200, total=   8.0s\n",
      "[CV] max_depth=6, n_estimators=100 ...................................\n",
      "[CV] .................... max_depth=6, n_estimators=100, total=   8.5s\n",
      "[CV] max_depth=6, n_estimators=100 ...................................\n",
      "[CV] .................... max_depth=6, n_estimators=100, total=   8.7s\n",
      "[CV] max_depth=6, n_estimators=100 ...................................\n",
      "[CV] .................... max_depth=6, n_estimators=100, total=   8.7s\n",
      "[CV] max_depth=6, n_estimators=100 ...................................\n",
      "[CV] .................... max_depth=6, n_estimators=100, total=   8.5s\n",
      "[CV] max_depth=6, n_estimators=100 ...................................\n",
      "[CV] .................... max_depth=6, n_estimators=100, total=   8.8s\n",
      "[CV] max_depth=6, n_estimators=200 ...................................\n",
      "[CV] .................... max_depth=6, n_estimators=200, total=  17.0s\n",
      "[CV] max_depth=6, n_estimators=200 ...................................\n",
      "[CV] .................... max_depth=6, n_estimators=200, total=  17.5s\n",
      "[CV] max_depth=6, n_estimators=200 ...................................\n",
      "[CV] .................... max_depth=6, n_estimators=200, total=  17.2s\n",
      "[CV] max_depth=6, n_estimators=200 ...................................\n",
      "[CV] .................... max_depth=6, n_estimators=200, total=  17.3s\n",
      "[CV] max_depth=6, n_estimators=200 ...................................\n",
      "[CV] .................... max_depth=6, n_estimators=200, total=  17.3s\n"
     ]
    },
    {
     "name": "stderr",
     "output_type": "stream",
     "text": [
      "[Parallel(n_jobs=1)]: Done  20 out of  20 | elapsed:  3.1min finished\n"
     ]
    },
    {
     "data": {
      "text/plain": [
       "GridSearchCV(estimator=RandomForestClassifier(),\n",
       "             param_grid={'max_depth': [2, 6], 'n_estimators': [100, 200]},\n",
       "             verbose=2)"
      ]
     },
     "execution_count": 44,
     "metadata": {},
     "output_type": "execute_result"
    }
   ],
   "source": [
    "from sklearn.model_selection import GridSearchCV\n",
    "rf = RandomForestClassifier()\n",
    "\n",
    "params = {\n",
    "    'n_estimators': [100, 200],\n",
    "    'max_depth': [2,6]\n",
    "}\n",
    "model = GridSearchCV(rf, param_grid = params, verbose=2)\n",
    "model.fit(X_train, Y_train) "
   ]
  },
  {
   "cell_type": "code",
   "execution_count": 45,
   "metadata": {},
   "outputs": [
    {
     "name": "stdout",
     "output_type": "stream",
     "text": [
      "...\n",
      "[0 0 1 0 0]\n",
      "\n",
      "Predictions on test set...\n",
      "...\n",
      "[0 0 0 0 0]\n",
      "\n"
     ]
    }
   ],
   "source": [
    "# Predictions on training set\n",
    "Y_train_pred = model.predict(X_train)\n",
    "print(\"...\")\n",
    "print(Y_train_pred[0:5])\n",
    "print()\n",
    "\n",
    "# Predictions on test set\n",
    "print(\"Predictions on test set...\")\n",
    "Y_test_pred = model.predict(X_test)\n",
    "print(\"...\")\n",
    "print(Y_test_pred[0:5])\n",
    "print()\n"
   ]
  },
  {
   "cell_type": "code",
   "execution_count": 46,
   "metadata": {},
   "outputs": [
    {
     "name": "stdout",
     "output_type": "stream",
     "text": [
      "f1-score on training set :  0.6991973205520587\n",
      "f1-score on test set :  0.7023041474654378\n"
     ]
    }
   ],
   "source": [
    "# Print scores\n",
    "print(\"f1-score on training set : \", f1_score(Y_train, Y_train_pred))\n",
    "print(\"f1-score on test set : \", f1_score(Y_test, Y_test_pred))"
   ]
  },
  {
   "cell_type": "code",
   "execution_count": 47,
   "metadata": {},
   "outputs": [
    {
     "name": "stdout",
     "output_type": "stream",
     "text": [
      "--- Train set ---\n",
      "Precision :  1.0\n",
      "Recall :  0.5375122081150671\n",
      "\n",
      "--- Test set ---\n",
      "Precision :  1.0\n",
      "Recall :  0.5411931818181818\n",
      "\n"
     ]
    }
   ],
   "source": [
    "from sklearn.metrics import precision_score, recall_score, confusion_matrix\n",
    "\n",
    "print('--- Train set ---')\n",
    "print('Precision : ', precision_score(Y_train, Y_train_pred))\n",
    "print('Recall : ', recall_score(Y_train, Y_train_pred))\n",
    "print()\n",
    "print('--- Test set ---')\n",
    "print('Precision : ', precision_score(Y_test, Y_test_pred))\n",
    "print('Recall : ', recall_score(Y_test, Y_test_pred))\n",
    "print()"
   ]
  },
  {
   "cell_type": "code",
   "execution_count": 48,
   "metadata": {},
   "outputs": [
    {
     "data": {
      "text/plain": [
       "<AxesSubplot:>"
      ]
     },
     "execution_count": 48,
     "metadata": {},
     "output_type": "execute_result"
    },
    {
     "data": {
      "image/png": "[encoded data removed]",
      "text/plain": [
       "<Figure size 432x288 with 4 Axes>"
      ]
     },
     "metadata": {
      "needs_background": "light"
     },
     "output_type": "display_data"
    }
   ],
   "source": [
    "plt.subplot(221)\n",
    "cm = confusion_matrix(Y_train, Y_train_pred)\n",
    "sns.heatmap(cm, annot=True, fmt=\".0f\")\n",
    "plt.subplot(222)\n",
    "cm = confusion_matrix(Y_test, Y_test_pred)\n",
    "sns.heatmap(cm, annot=True, fmt=\".0f\")"
   ]
  },
  {
   "cell_type": "markdown",
   "metadata": {},
   "source": [
    "### SVC"
   ]
  },
  {
   "cell_type": "code",
   "execution_count": 49,
   "metadata": {
    "colab": {},
    "colab_type": "code",
    "id": "19cOVngJcCV4"
   },
   "outputs": [],
   "source": [
    "from sklearn.svm import SVC\n",
    "svm = SVC(kernel='rbf', class_weight='balanced')"
   ]
  },
  {
   "cell_type": "code",
   "execution_count": 50,
   "metadata": {
    "colab": {},
    "colab_type": "code",
    "id": "-3bpvTZfdF-7"
   },
   "outputs": [],
   "source": [
    "from sklearn.model_selection import train_test_split\n",
    "X_train, X_test, y_train, y_test = train_test_split(X, Y, test_size=0.2, random_state=0, stratify=Y)\n",
    "\n",
    "from sklearn.preprocessing import StandardScaler\n",
    "scaler = StandardScaler()\n",
    "\n",
    "X_train = scaler.fit_transform(X_train)\n",
    "X_test = scaler.transform(X_test)"
   ]
  },
  {
   "cell_type": "code",
   "execution_count": 51,
   "metadata": {
    "colab": {
     "base_uri": "https://localhost:8080/",
     "height": 121
    },
    "colab_type": "code",
    "executionInfo": {
     "elapsed": 18938,
     "status": "ok",
     "timestamp": 1580303220644,
     "user": {
      "displayName": "Charles TANGUY",
      "photoUrl": "",
      "userId": "14578398709468794185"
     },
     "user_tz": -60
    },
    "id": "-Q-sj9u9dK5h",
    "outputId": "99d5ee04-49db-49fc-dbc6-9419d2940fa2",
    "tags": []
   },
   "outputs": [
    {
     "name": "stdout",
     "output_type": "stream",
     "text": [
      "CPU times: user 817 ms, sys: 59.8 ms, total: 877 ms\n",
      "Wall time: 877 ms\n"
     ]
    },
    {
     "data": {
      "text/plain": [
       "SVC(class_weight='balanced')"
      ]
     },
     "execution_count": 51,
     "metadata": {},
     "output_type": "execute_result"
    }
   ],
   "source": [
    "%time svm.fit(X_train, y_train)"
   ]
  },
  {
   "cell_type": "code",
   "execution_count": 52,
   "metadata": {
    "colab": {
     "base_uri": "https://localhost:8080/",
     "height": 69
    },
    "colab_type": "code",
    "executionInfo": {
     "elapsed": 19644,
     "status": "ok",
     "timestamp": 1580303222124,
     "user": {
      "displayName": "Charles TANGUY",
      "photoUrl": "",
      "userId": "14578398709468794185"
     },
     "user_tz": -60
    },
    "id": "YrAgXEaod0En",
    "outputId": "9989843b-60b5-4026-9a62-8739c23c8ad5",
    "tags": []
   },
   "outputs": [
    {
     "name": "stdout",
     "output_type": "stream",
     "text": [
      "CPU times: user 78.9 ms, sys: 1.06 ms, total: 79.9 ms\n",
      "Wall time: 78.7 ms\n"
     ]
    },
    {
     "data": {
      "text/plain": [
       "1.0"
      ]
     },
     "execution_count": 52,
     "metadata": {},
     "output_type": "execute_result"
    }
   ],
   "source": [
    "%time svm.score(X_test, y_test)"
   ]
  },
  {
   "cell_type": "code",
   "execution_count": 53,
   "metadata": {},
   "outputs": [
    {
     "name": "stdout",
     "output_type": "stream",
     "text": [
      "f1-score on training set :  0.6991973205520587\n",
      "f1-score on test set :  0.7023041474654378\n"
     ]
    }
   ],
   "source": [
    "print(\"f1-score on training set : \", f1_score(Y_train, Y_train_pred))\n",
    "print(\"f1-score on test set : \", f1_score(Y_test, Y_test_pred))"
   ]
  },
  {
   "cell_type": "code",
   "execution_count": 54,
   "metadata": {},
   "outputs": [
    {
     "name": "stdout",
     "output_type": "stream",
     "text": [
      "--- Train set ---\n",
      "Precision :  1.0\n",
      "Recall :  0.5375122081150671\n",
      "\n",
      "--- Test set ---\n",
      "Precision :  1.0\n",
      "Recall :  0.5411931818181818\n",
      "\n"
     ]
    }
   ],
   "source": [
    "from sklearn.metrics import precision_score, recall_score, confusion_matrix\n",
    "\n",
    "print('--- Train set ---')\n",
    "print('Precision : ', precision_score(Y_train, Y_train_pred))\n",
    "print('Recall : ', recall_score(Y_train, Y_train_pred))\n",
    "print()\n",
    "print('--- Test set ---')\n",
    "print('Precision : ', precision_score(Y_test, Y_test_pred))\n",
    "print('Recall : ', recall_score(Y_test, Y_test_pred))\n",
    "print()\n"
   ]
  },
  {
   "cell_type": "code",
   "execution_count": 55,
   "metadata": {},
   "outputs": [
    {
     "data": {
      "text/plain": [
       "<AxesSubplot:>"
      ]
     },
     "execution_count": 55,
     "metadata": {},
     "output_type": "execute_result"
    },
    {
     "data": {
      "image/png": "[encoded data removed]",
      "text/plain": [
       "<Figure size 432x288 with 4 Axes>"
      ]
     },
     "metadata": {
      "needs_background": "light"
     },
     "output_type": "display_data"
    }
   ],
   "source": [
    "plt.subplot(221)\n",
    "cm = confusion_matrix(Y_train, Y_train_pred)\n",
    "sns.heatmap(cm, annot=True, fmt=\".0f\")\n",
    "plt.subplot(222)\n",
    "cm = confusion_matrix(Y_test, Y_test_pred)\n",
    "sns.heatmap(cm, annot=True, fmt=\".0f\")"
   ]
  },
  {
   "cell_type": "markdown",
   "metadata": {},
   "source": [
    "### Boosting"
   ]
  },
  {
   "cell_type": "code",
   "execution_count": 56,
   "metadata": {},
   "outputs": [
    {
     "name": "stdout",
     "output_type": "stream",
     "text": [
      "Requirement already satisfied: xgboost in /opt/conda/lib/python3.8/site-packages (1.3.3)\n",
      "Requirement already satisfied: scipy in /opt/conda/lib/python3.8/site-packages (from xgboost) (1.5.2)\n",
      "Requirement already satisfied: numpy in /opt/conda/lib/python3.8/site-packages (from xgboost) (1.19.2)\n"
     ]
    }
   ],
   "source": [
    "!pip install xgboost\n",
    "from xgboost import XGBClassifier\n",
    "from sklearn.ensemble import AdaBoostClassifier "
   ]
  },
  {
   "cell_type": "code",
   "execution_count": 57,
   "metadata": {},
   "outputs": [
    {
     "name": "stdout",
     "output_type": "stream",
     "text": [
      "Score Adaboost default train 1.0\n",
      "Score Adaboost default test 1.0\n",
      "\n"
     ]
    }
   ],
   "source": [
    "regressor_ada = AdaBoostClassifier()\n",
    "regressor_ada.fit(X_train, Y_train)\n",
    "# Score en R2\n",
    "AdaBoost_score_train = regressor_ada.score(X_train, Y_train)\n",
    "AdaBoost_score_test = regressor_ada.score(X_test, Y_test)\n",
    "print(\"Score Adaboost default train {}\".format(regressor_ada.score(X_train, Y_train)))\n",
    "print(\"Score Adaboost default test {}\".format(regressor_ada.score(X_test, Y_test)))\n",
    "print()"
   ]
  },
  {
   "cell_type": "code",
   "execution_count": 58,
   "metadata": {},
   "outputs": [
    {
     "name": "stderr",
     "output_type": "stream",
     "text": [
      "/opt/conda/lib/python3.8/site-packages/xgboost/sklearn.py:888: UserWarning: The use of label encoder in XGBClassifier is deprecated and will be removed in a future release. To remove this warning, do the following: 1) Pass option use_label_encoder=False when constructing XGBClassifier object; and 2) Encode your labels (y) as integers starting with 0, i.e. 0, 1, 2, ..., [num_class - 1].\n",
      "  warnings.warn(label_encoder_deprecation_msg, UserWarning)\n"
     ]
    },
    {
     "name": "stdout",
     "output_type": "stream",
     "text": [
      "[19:30:11] WARNING: ../src/learner.cc:1061: Starting in XGBoost 1.3.0, the default evaluation metric used with the objective 'binary:logistic' was changed from 'error' to 'logloss'. Explicitly set eval_metric if you'd like to restore the old behavior.\n",
      "Score XGBoost default train 1.0\n",
      "Score XGBoost default test 1.0\n",
      "\n"
     ]
    }
   ],
   "source": [
    "regressor_xgb = XGBClassifier(max_depth=3)\n",
    "regressor_xgb.fit(X_train, Y_train)\n",
    "Xgb_score_train = regressor_xgb.score(X_train, Y_train)\n",
    "Xgb_score_test = regressor_xgb.score(X_test, Y_test)\n",
    "print(\"Score XGBoost default train {}\".format(regressor_xgb.score(X_train, Y_train)))\n",
    "print(\"Score XGBoost default test {}\".format(regressor_xgb.score(X_test, Y_test)))\n",
    "print()"
   ]
  },
  {
   "cell_type": "code",
   "execution_count": 59,
   "metadata": {},
   "outputs": [
    {
     "data": {
      "text/plain": [
       "<AxesSubplot:>"
      ]
     },
     "execution_count": 59,
     "metadata": {},
     "output_type": "execute_result"
    },
    {
     "data": {
      "image/png": "[encoded data removed]",
      "text/plain": [
       "<Figure size 432x288 with 4 Axes>"
      ]
     },
     "metadata": {
      "needs_background": "light"
     },
     "output_type": "display_data"
    }
   ],
   "source": [
    "plt.subplot(221)\n",
    "cm = confusion_matrix(Y_train, Y_train_pred)\n",
    "sns.heatmap(cm, annot=True, fmt=\".0f\")\n",
    "plt.subplot(222)\n",
    "cm = confusion_matrix(Y_test, Y_test_pred)\n",
    "sns.heatmap(cm, annot=True, fmt=\".0f\")"
   ]
  },
  {
   "cell_type": "code",
   "execution_count": 60,
   "metadata": {},
   "outputs": [],
   "source": [
    "# En conclusion rapide nous voyons bien l'impact sur la performance avec les methodes ensembliste"
   ]
  },
  {
   "cell_type": "code",
   "execution_count": 61,
   "metadata": {},
   "outputs": [],
   "source": [
    "# .... A continuer"
   ]
  },
  {
   "cell_type": "code",
   "execution_count": null,
   "metadata": {},
   "outputs": [],
   "source": []
  },
  {
   "cell_type": "code",
   "execution_count": null,
   "metadata": {},
   "outputs": [],
   "source": []
  }
 ],
 "metadata": {
  "kernelspec": {
   "display_name": "Python 3",
   "language": "python",
   "name": "python3"
  },
  "language_info": {
   "codemirror_mode": {
    "name": "ipython",
    "version": 3
   },
   "file_extension": ".py",
   "mimetype": "text/x-python",
   "name": "python",
   "nbconvert_exporter": "python",
   "pygments_lexer": "ipython3",
   "version": "3.8.6"
  }
 },
 "nbformat": 4,
 "nbformat_minor": 4
}
